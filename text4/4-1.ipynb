{
 "cells": [
  {
   "cell_type": "code",
   "execution_count": 1,
   "id": "47bfc232",
   "metadata": {},
   "outputs": [],
   "source": [
    "class Dog: #クラスDogを定義\n",
    "    def cry(self): #メソッドcry()を定義\n",
    "        print('ワン')"
   ]
  },
  {
   "cell_type": "code",
   "execution_count": 2,
   "id": "7c06516a",
   "metadata": {},
   "outputs": [],
   "source": [
    "pochi = Dog()\n",
    "shiro = Dog()"
   ]
  },
  {
   "cell_type": "code",
   "execution_count": 3,
   "id": "ba1211c7",
   "metadata": {},
   "outputs": [
    {
     "name": "stdout",
     "output_type": "stream",
     "text": [
      "ワン\n"
     ]
    }
   ],
   "source": [
    "pochi.cry()"
   ]
  },
  {
   "cell_type": "code",
   "execution_count": 4,
   "id": "1280cc24",
   "metadata": {},
   "outputs": [
    {
     "name": "stdout",
     "output_type": "stream",
     "text": [
      "ワン\n"
     ]
    }
   ],
   "source": [
    "shiro.cry()"
   ]
  },
  {
   "cell_type": "code",
   "execution_count": 5,
   "id": "f9963d1f",
   "metadata": {},
   "outputs": [],
   "source": [
    "class ShibaInu(Dog): #クラスDogを継承してサブクラスShibaInuを定義\n",
    "    def wait(self): #新たなメソッドwait()を定義\n",
    "        print('待つ')"
   ]
  },
  {
   "cell_type": "code",
   "execution_count": 6,
   "id": "cfd4675c",
   "metadata": {},
   "outputs": [
    {
     "name": "stdout",
     "output_type": "stream",
     "text": [
      "待つ\n"
     ]
    }
   ],
   "source": [
    "hachi = ShibaInu()\n",
    "hachi.wait()"
   ]
  },
  {
   "cell_type": "code",
   "execution_count": 7,
   "id": "4700b477",
   "metadata": {},
   "outputs": [
    {
     "name": "stdout",
     "output_type": "stream",
     "text": [
      "ワン\n"
     ]
    }
   ],
   "source": [
    "hachi.cry()"
   ]
  },
  {
   "cell_type": "code",
   "execution_count": 8,
   "id": "f22b0caa",
   "metadata": {},
   "outputs": [],
   "source": [
    "# ポリモーフィズムのための標準ライブラリabcからインポート\n",
    "from abc import ABCMeta, abstractmethod\n",
    "\n",
    "#元となる動物クラスAnimal\n",
    "class Animal(metaclass = ABCMeta): #抽象クラスABCMetaを利用\n",
    "    @abstractmethod #インポートした抽象メソッドabstractmethodを使用\n",
    "    def cry(self): #抽象メソッドcry()を定義\n",
    "        pass #何もしない\n",
    "\n",
    "#クラスDog\n",
    "class Dog(Animal): #Animalクラスを継承\n",
    "    def cry(self): #犬の鳴き方でcry()をオーバーライド\n",
    "        print('ワン')\n",
    "        \n",
    "#クラスCat\n",
    "class Cat(Animal): #Animalクラスを継承\n",
    "    def cry(self): #猫の鳴き方でcry()をオーバーライド\n",
    "        print('ニャー')"
   ]
  },
  {
   "cell_type": "code",
   "execution_count": 9,
   "id": "51276a6f",
   "metadata": {},
   "outputs": [
    {
     "name": "stdout",
     "output_type": "stream",
     "text": [
      "ワン\n"
     ]
    }
   ],
   "source": [
    "pochi = Dog()\n",
    "tama = Cat()\n",
    "\n",
    "pochi.cry()"
   ]
  },
  {
   "cell_type": "code",
   "execution_count": 10,
   "id": "9e4b26cf",
   "metadata": {},
   "outputs": [
    {
     "name": "stdout",
     "output_type": "stream",
     "text": [
      "ニャー\n"
     ]
    }
   ],
   "source": [
    "tama.cry()"
   ]
  },
  {
   "cell_type": "code",
   "execution_count": 11,
   "id": "d8c51dcb",
   "metadata": {},
   "outputs": [],
   "source": [
    "class Dog:\n",
    "    def __init__(self, name, weight): #初期設定する特殊メソッド__init__\n",
    "        self.name = name #self.nameはパブリック変数\n",
    "        self.__weight = weight #self.__weightはプライベート変数"
   ]
  },
  {
   "cell_type": "code",
   "execution_count": 12,
   "id": "7d973c09",
   "metadata": {},
   "outputs": [
    {
     "name": "stdout",
     "output_type": "stream",
     "text": [
      "ポチ\n"
     ]
    }
   ],
   "source": [
    "pochi = Dog('ポチ', 20) #nameに'ポチ',weightに20を設定したインスタンスを生成\n",
    "print(pochi.name)"
   ]
  },
  {
   "cell_type": "code",
   "execution_count": 13,
   "id": "d41e15df",
   "metadata": {},
   "outputs": [
    {
     "ename": "AttributeError",
     "evalue": "'Dog' object has no attribute '__weight'",
     "output_type": "error",
     "traceback": [
      "\u001b[1;31m---------------------------------------------------------------------------\u001b[0m",
      "\u001b[1;31mAttributeError\u001b[0m                            Traceback (most recent call last)",
      "\u001b[1;32m~\\AppData\\Local\\Temp\\ipykernel_10740\\1368061648.py\u001b[0m in \u001b[0;36m<module>\u001b[1;34m\u001b[0m\n\u001b[1;32m----> 1\u001b[1;33m \u001b[0mprint\u001b[0m\u001b[1;33m(\u001b[0m\u001b[0mpochi\u001b[0m\u001b[1;33m.\u001b[0m\u001b[0m__weight\u001b[0m\u001b[1;33m)\u001b[0m\u001b[1;33m\u001b[0m\u001b[1;33m\u001b[0m\u001b[0m\n\u001b[0m",
      "\u001b[1;31mAttributeError\u001b[0m: 'Dog' object has no attribute '__weight'"
     ]
    }
   ],
   "source": [
    "print(pochi.__weight)"
   ]
  },
  {
   "cell_type": "code",
   "execution_count": 15,
   "id": "480e59d0",
   "metadata": {},
   "outputs": [],
   "source": [
    "class Dog:\n",
    "    def __init__(self, name, weight):\n",
    "        self.name = name\n",
    "        self.__weight = weight #__weightはプライベート変数\n",
    "    \n",
    "    def getWeight(self): #__weightのゲッター\n",
    "        return self.__weight #weightの値を返却\n",
    "    \n",
    "    def setWeight(self, weight): #__weightのセッター\n",
    "        self.__weight = weight #__weightに値を設定"
   ]
  },
  {
   "cell_type": "code",
   "execution_count": 16,
   "id": "1e74393f",
   "metadata": {},
   "outputs": [
    {
     "name": "stdout",
     "output_type": "stream",
     "text": [
      "20\n"
     ]
    }
   ],
   "source": [
    "pochi = Dog('ポチ', 20) #nameに'ポチ', __weightに20を設定したインスタンスを生成\n",
    "print(pochi.getWeight()) #ゲッターで、__weightの値を取得して表示"
   ]
  },
  {
   "cell_type": "code",
   "execution_count": 17,
   "id": "13d9045c",
   "metadata": {},
   "outputs": [
    {
     "name": "stdout",
     "output_type": "stream",
     "text": [
      "25\n"
     ]
    }
   ],
   "source": [
    "pochi.setWeight(25) #セッターで、__weightに25を設定\n",
    "print(pochi.getWeight()) #ゲッターで、__weightの値を取得して表示"
   ]
  },
  {
   "cell_type": "code",
   "execution_count": 18,
   "id": "22576bfb",
   "metadata": {},
   "outputs": [],
   "source": [
    "class Person: #人間クラス\n",
    "    def __init__(self, name):\n",
    "        self.name = name\n",
    "    def hello(self):\n",
    "        print('こんにちは')\n",
    "        \n",
    "class Dog:\n",
    "    def __init__(self, name, owner):\n",
    "        self.name = name\n",
    "        self.owner = owner #ownerに、人間クラスのインスタンスを設定\n",
    "    def hello(self): #hello()メソッド\n",
    "        self.owner.hello() #ownerに、hello()メソッドの実行を委譲"
   ]
  },
  {
   "cell_type": "code",
   "execution_count": 19,
   "id": "8b183818",
   "metadata": {},
   "outputs": [],
   "source": [
    "ken = Person('けん')\n",
    "pochi = Dog('ポチ', ken)"
   ]
  },
  {
   "cell_type": "code",
   "execution_count": 20,
   "id": "1b6efd26",
   "metadata": {},
   "outputs": [
    {
     "name": "stdout",
     "output_type": "stream",
     "text": [
      "けん\n"
     ]
    }
   ],
   "source": [
    "print(pochi.owner.name)"
   ]
  },
  {
   "cell_type": "code",
   "execution_count": 21,
   "id": "c8c6ba1c",
   "metadata": {},
   "outputs": [
    {
     "name": "stdout",
     "output_type": "stream",
     "text": [
      "こんにちは\n"
     ]
    }
   ],
   "source": [
    "pochi.hello()"
   ]
  },
  {
   "cell_type": "code",
   "execution_count": null,
   "id": "c1b4ef32",
   "metadata": {},
   "outputs": [],
   "source": []
  }
 ],
 "metadata": {
  "kernelspec": {
   "display_name": "Python 3 (ipykernel)",
   "language": "python",
   "name": "python3"
  },
  "language_info": {
   "codemirror_mode": {
    "name": "ipython",
    "version": 3
   },
   "file_extension": ".py",
   "mimetype": "text/x-python",
   "name": "python",
   "nbconvert_exporter": "python",
   "pygments_lexer": "ipython3",
   "version": "3.9.13"
  }
 },
 "nbformat": 4,
 "nbformat_minor": 5
}
