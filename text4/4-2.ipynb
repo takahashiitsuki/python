{
 "cells": [
  {
   "cell_type": "code",
   "execution_count": 1,
   "id": "6ff314f9",
   "metadata": {},
   "outputs": [],
   "source": [
    "class Car:\n",
    "    kind = 'car'\n",
    "    def run(self):\n",
    "        print('Car is ruuning.')"
   ]
  },
  {
   "cell_type": "code",
   "execution_count": 2,
   "id": "d95824da",
   "metadata": {},
   "outputs": [
    {
     "data": {
      "text/plain": [
       "'car'"
      ]
     },
     "execution_count": 2,
     "metadata": {},
     "output_type": "execute_result"
    }
   ],
   "source": [
    "Car.kind"
   ]
  },
  {
   "cell_type": "code",
   "execution_count": 3,
   "id": "77b753b8",
   "metadata": {},
   "outputs": [],
   "source": [
    "tesla = Car()"
   ]
  },
  {
   "cell_type": "code",
   "execution_count": 5,
   "id": "3091707f",
   "metadata": {},
   "outputs": [
    {
     "name": "stdout",
     "output_type": "stream",
     "text": [
      "Car is ruuning.\n"
     ]
    }
   ],
   "source": [
    "tesla.run()"
   ]
  },
  {
   "cell_type": "code",
   "execution_count": 6,
   "id": "0dca7203",
   "metadata": {},
   "outputs": [],
   "source": [
    "class Car:\n",
    "    def __init__(self, name):\n",
    "        self.name = name"
   ]
  },
  {
   "cell_type": "code",
   "execution_count": 7,
   "id": "297b511f",
   "metadata": {},
   "outputs": [],
   "source": [
    "tesla = Car('model 3')"
   ]
  },
  {
   "cell_type": "code",
   "execution_count": 8,
   "id": "f1ff2bc6",
   "metadata": {},
   "outputs": [
    {
     "name": "stdout",
     "output_type": "stream",
     "text": [
      "model 3\n"
     ]
    }
   ],
   "source": [
    "print(tesla.name)"
   ]
  },
  {
   "cell_type": "code",
   "execution_count": 9,
   "id": "02990f9a",
   "metadata": {},
   "outputs": [],
   "source": [
    "class Truck(Car):\n",
    "    pass"
   ]
  },
  {
   "cell_type": "code",
   "execution_count": 10,
   "id": "32df527b",
   "metadata": {},
   "outputs": [
    {
     "name": "stdout",
     "output_type": "stream",
     "text": [
      "Cyber Truck\n"
     ]
    }
   ],
   "source": [
    "cybertruck = Truck('Cyber Truck')\n",
    "print(cybertruck.name)"
   ]
  },
  {
   "cell_type": "code",
   "execution_count": 1,
   "id": "770e1eca",
   "metadata": {},
   "outputs": [],
   "source": [
    "class Car: #Carクラスを定義\n",
    "    def exclaim(self): #メソッドexclaim()を定義\n",
    "        print('I am a car.')\n",
    "\n",
    "class Truck(Car): #Carクラスを継承してTruckクラスを定義\n",
    "    def exclaim(self): #メソッドexclaim()をオーバーライド\n",
    "        print('I am a truck.')"
   ]
  },
  {
   "cell_type": "code",
   "execution_count": 3,
   "id": "f2441ed4",
   "metadata": {},
   "outputs": [
    {
     "name": "stdout",
     "output_type": "stream",
     "text": [
      "I am a car.\n"
     ]
    }
   ],
   "source": [
    "tesla = Car()\n",
    "cybertruck = Truck()\n",
    "tesla.exclaim()"
   ]
  },
  {
   "cell_type": "code",
   "execution_count": 4,
   "id": "c3fb916c",
   "metadata": {},
   "outputs": [
    {
     "name": "stdout",
     "output_type": "stream",
     "text": [
      "I am a truck.\n"
     ]
    }
   ],
   "source": [
    "cybertruck.exclaim()"
   ]
  },
  {
   "cell_type": "code",
   "execution_count": 5,
   "id": "e3bab35e",
   "metadata": {},
   "outputs": [],
   "source": [
    "class Car:\n",
    "    def exclaim(self):\n",
    "        print('I am a car.')\n",
    "        \n",
    "class Truck(Car):\n",
    "    def exclaim(self): #メソッドexclaim()をオーバーロード\n",
    "        print('I am a truck.')\n",
    "    def baggage(self): #新しいメソッドbaggage()の追加\n",
    "        print('I can carry baggage.')"
   ]
  },
  {
   "cell_type": "code",
   "execution_count": 6,
   "id": "a60157fa",
   "metadata": {},
   "outputs": [
    {
     "name": "stdout",
     "output_type": "stream",
     "text": [
      "I can carry baggage.\n"
     ]
    }
   ],
   "source": [
    "cybertruck = Truck()\n",
    "cybertruck.baggage()"
   ]
  },
  {
   "cell_type": "code",
   "execution_count": 7,
   "id": "b3d3c2da",
   "metadata": {},
   "outputs": [],
   "source": [
    "class Car:\n",
    "    def exclaim(self):\n",
    "        print('I am a car.')\n",
    "        \n",
    "class Truck(Car):\n",
    "    def exclaim(self):\n",
    "        super().exclaim() #スーパークラスのexclaim()を利用\n",
    "        print('I am a truck.')"
   ]
  },
  {
   "cell_type": "code",
   "execution_count": 8,
   "id": "4dd31b3d",
   "metadata": {},
   "outputs": [
    {
     "name": "stdout",
     "output_type": "stream",
     "text": [
      "I am a car.\n",
      "I am a truck.\n"
     ]
    }
   ],
   "source": [
    "cybertruck = Truck()\n",
    "cybertruck.exclaim()"
   ]
  },
  {
   "cell_type": "code",
   "execution_count": 9,
   "id": "1f854483",
   "metadata": {},
   "outputs": [],
   "source": [
    "class Dog:\n",
    "    count = 0 #countはクラス変数\n",
    "    def __init__(self, name):\n",
    "        self.name = name #nameはインスタンス変数\n",
    "        Dog.count += 1 #インスタンス作成ごとにcountに1を加える"
   ]
  },
  {
   "cell_type": "code",
   "execution_count": 10,
   "id": "a10a09ce",
   "metadata": {},
   "outputs": [
    {
     "name": "stdout",
     "output_type": "stream",
     "text": [
      "犬の名前： ポチ シロ ハチ\n",
      "犬の数： 3\n"
     ]
    }
   ],
   "source": [
    "pochi = Dog('ポチ')\n",
    "shiro = Dog('シロ')\n",
    "hachi = Dog('ハチ')\n",
    "print('犬の名前：', pochi.name, shiro.name, hachi.name)\n",
    "print('犬の数：', Dog.count)"
   ]
  },
  {
   "cell_type": "code",
   "execution_count": 11,
   "id": "ba5fe7c7",
   "metadata": {},
   "outputs": [],
   "source": [
    "class Dog:\n",
    "    count = 0 #countはクラス変数\n",
    "    def __init__(self, name):\n",
    "        self.name = name #nameはインスタンス変数\n",
    "        Dog.count += 1 #インスタンス作成ごとに、countに1を加える\n",
    "    @classmethod #クラスメソッドを示すデコレータ\n",
    "    def display(cls): #クラスメソッド。clsはクラス事態を表す\n",
    "        print('Dogクラスには、犬が', cls.count, '匹います。')"
   ]
  },
  {
   "cell_type": "code",
   "execution_count": 12,
   "id": "582294e3",
   "metadata": {},
   "outputs": [
    {
     "name": "stdout",
     "output_type": "stream",
     "text": [
      "Dogクラスには、犬が 3 匹います。\n"
     ]
    }
   ],
   "source": [
    "pochi = Dog('ポチ')\n",
    "shiro = Dog('シロ')\n",
    "hachi = Dog('ハチ')\n",
    "Dog.display()"
   ]
  },
  {
   "cell_type": "code",
   "execution_count": 13,
   "id": "ee0fd913",
   "metadata": {},
   "outputs": [
    {
     "name": "stdout",
     "output_type": "stream",
     "text": [
      "<__main__.Dog object at 0x000001F7D84DFEB0>\n"
     ]
    }
   ],
   "source": [
    "pochi = Dog('ポチ')\n",
    "print(pochi)"
   ]
  },
  {
   "cell_type": "code",
   "execution_count": 14,
   "id": "5a7ddeed",
   "metadata": {},
   "outputs": [],
   "source": [
    "class Dog:\n",
    "    def __init__(self, name):\n",
    "        self.name = name\n",
    "    def __repr__(self): #オブジェクトの表現方法を指定\n",
    "        return 'Dog object ' + self.name"
   ]
  },
  {
   "cell_type": "code",
   "execution_count": 15,
   "id": "9f0518ed",
   "metadata": {},
   "outputs": [
    {
     "name": "stdout",
     "output_type": "stream",
     "text": [
      "Dog object ポチ\n"
     ]
    }
   ],
   "source": [
    "pochi = Dog('ポチ')\n",
    "print(pochi)"
   ]
  },
  {
   "cell_type": "code",
   "execution_count": 16,
   "id": "623ae8da",
   "metadata": {},
   "outputs": [],
   "source": [
    "from enum import Enum\n",
    "\n",
    "class Week(Enum):\n",
    "    MONDAY = 1\n",
    "    TUESDAY = 2\n",
    "    WEDNESDAY = 3\n",
    "    THURSDAY = 4\n",
    "    FRIDAY = 5\n",
    "    SATURDAY = 6\n",
    "    SUNDAY = 7"
   ]
  },
  {
   "cell_type": "code",
   "execution_count": 17,
   "id": "f3090b60",
   "metadata": {},
   "outputs": [
    {
     "name": "stdout",
     "output_type": "stream",
     "text": [
      "Week.SUNDAY\n"
     ]
    }
   ],
   "source": [
    "week_today = Week.SUNDAY\n",
    "print(week_today)"
   ]
  },
  {
   "cell_type": "code",
   "execution_count": 18,
   "id": "78a96b8c",
   "metadata": {},
   "outputs": [],
   "source": [
    "from enum import Enum, auto\n",
    "\n",
    "class Week(Enum):\n",
    "    MONDAY = auto()\n",
    "    TUESDAY = auto()\n",
    "    WEDNESDAY = auto()\n",
    "    THURSDAY = auto()\n",
    "    FRIFAY = auto()\n",
    "    SATURDAY = auto()\n",
    "    SUNDAY = auto()"
   ]
  },
  {
   "cell_type": "code",
   "execution_count": 19,
   "id": "8fb5b23a",
   "metadata": {},
   "outputs": [
    {
     "name": "stdout",
     "output_type": "stream",
     "text": [
      "SUNDAY 7\n"
     ]
    }
   ],
   "source": [
    "print(Week.SUNDAY.name, Week.SUNDAY.value)"
   ]
  },
  {
   "cell_type": "code",
   "execution_count": 21,
   "id": "4e8dd207",
   "metadata": {},
   "outputs": [
    {
     "name": "stdout",
     "output_type": "stream",
     "text": [
      "ベンノ\n",
      "マイン\n"
     ]
    }
   ],
   "source": [
    "class Student:\n",
    "    def __init__(self, teacher, menter):\n",
    "        self.teacher = teacher\n",
    "        self.menter = menter\n",
    "\n",
    "luts = Student('マイン', 'ベンノ')\n",
    "print(luts.menter)\n",
    "print(luts.teacher)"
   ]
  },
  {
   "cell_type": "code",
   "execution_count": 22,
   "id": "2fb69cd1",
   "metadata": {},
   "outputs": [],
   "source": [
    "class Car:\n",
    "    def drive(self):\n",
    "        print('Car is driving')\n",
    "        \n",
    "class Truck(Car):\n",
    "    def carry(self):\n",
    "        print('Truck is carrying')"
   ]
  },
  {
   "cell_type": "code",
   "execution_count": 23,
   "id": "9685d257",
   "metadata": {},
   "outputs": [
    {
     "name": "stdout",
     "output_type": "stream",
     "text": [
      "Car is driving\n"
     ]
    }
   ],
   "source": [
    "cybertruck = Truck()\n",
    "cybertruck.drive()"
   ]
  },
  {
   "cell_type": "code",
   "execution_count": 24,
   "id": "aef95308",
   "metadata": {},
   "outputs": [],
   "source": [
    "class Practice:\n",
    "    data_list = []\n",
    "    \n",
    "    def add_data_list(self, data):\n",
    "        self.data_list.append(data)"
   ]
  },
  {
   "cell_type": "code",
   "execution_count": 25,
   "id": "3193cd6c",
   "metadata": {},
   "outputs": [],
   "source": [
    "practice1 = Practice()\n",
    "practice1.add_data_list(\"data 1\")\n",
    "\n",
    "practice2 = Practice()\n",
    "practice2.add_data_list(\"data 2\")"
   ]
  },
  {
   "cell_type": "code",
   "execution_count": null,
   "id": "40905d4f",
   "metadata": {},
   "outputs": [],
   "source": [
    "print(\"data_list:\", end=\" \")\n",
    "for data in practice1.data_list:\n",
    "    print(data, end=\" \")"
   ]
  }
 ],
 "metadata": {
  "kernelspec": {
   "display_name": "Python 3 (ipykernel)",
   "language": "python",
   "name": "python3"
  },
  "language_info": {
   "codemirror_mode": {
    "name": "ipython",
    "version": 3
   },
   "file_extension": ".py",
   "mimetype": "text/x-python",
   "name": "python",
   "nbconvert_exporter": "python",
   "pygments_lexer": "ipython3",
   "version": "3.9.13"
  }
 },
 "nbformat": 4,
 "nbformat_minor": 5
}
