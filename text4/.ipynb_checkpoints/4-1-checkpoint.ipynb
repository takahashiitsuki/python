{
 "cells": [
  {
   "cell_type": "code",
   "execution_count": 1,
   "id": "5c5a887b",
   "metadata": {},
   "outputs": [],
   "source": [
    "class Dog: #クラスDogを定義\n",
    "    def cry(self): #メソッドcry()を定義\n",
    "        print('ワン')"
   ]
  },
  {
   "cell_type": "code",
   "execution_count": 2,
   "id": "0edd3af3",
   "metadata": {},
   "outputs": [],
   "source": [
    "pochi = Dog()\n",
    "shiro = Dog()"
   ]
  },
  {
   "cell_type": "code",
   "execution_count": 3,
   "id": "7c3007c3",
   "metadata": {},
   "outputs": [
    {
     "name": "stdout",
     "output_type": "stream",
     "text": [
      "ワン\n"
     ]
    }
   ],
   "source": [
    "pochi.cry()"
   ]
  },
  {
   "cell_type": "code",
   "execution_count": 4,
   "id": "d1861d2a",
   "metadata": {},
   "outputs": [
    {
     "name": "stdout",
     "output_type": "stream",
     "text": [
      "ワン\n"
     ]
    }
   ],
   "source": [
    "shiro.cry()"
   ]
  },
  {
   "cell_type": "code",
   "execution_count": 5,
   "id": "12a031dd",
   "metadata": {},
   "outputs": [],
   "source": [
    "class ShibaInu(Dog): #クラスDogを継承してサブクラスShibaInuを定義\n",
    "    def wait(self): #新たなメソッドwait()を定義\n",
    "        print('待つ')"
   ]
  },
  {
   "cell_type": "code",
   "execution_count": 6,
   "id": "aa4612c9",
   "metadata": {},
   "outputs": [
    {
     "name": "stdout",
     "output_type": "stream",
     "text": [
      "待つ\n"
     ]
    }
   ],
   "source": [
    "hachi = ShibaInu()\n",
    "hachi.wait()"
   ]
  },
  {
   "cell_type": "code",
   "execution_count": 7,
   "id": "d7f5ef77",
   "metadata": {},
   "outputs": [
    {
     "name": "stdout",
     "output_type": "stream",
     "text": [
      "ワン\n"
     ]
    }
   ],
   "source": [
    "hachi.cry()"
   ]
  },
  {
   "cell_type": "code",
   "execution_count": null,
   "id": "cc81196c",
   "metadata": {},
   "outputs": [],
   "source": [
    "# ポリモーフィズムのための標準ライブラリabcからインポート\n",
    "from abc import ABCMeta, abstractmethod\n",
    "\n",
    "#元となる動物クラスAnimal\n",
    "class Animal(metaclass = ABCMeta): #抽象クラスABCMetaを利用\n",
    "    @abstractmethod #インポートした抽象メソッドabstractmethodを使用\n",
    "    "
   ]
  }
 ],
 "metadata": {
  "kernelspec": {
   "display_name": "Python 3 (ipykernel)",
   "language": "python",
   "name": "python3"
  },
  "language_info": {
   "codemirror_mode": {
    "name": "ipython",
    "version": 3
   },
   "file_extension": ".py",
   "mimetype": "text/x-python",
   "name": "python",
   "nbconvert_exporter": "python",
   "pygments_lexer": "ipython3",
   "version": "3.9.13"
  }
 },
 "nbformat": 4,
 "nbformat_minor": 5
}
