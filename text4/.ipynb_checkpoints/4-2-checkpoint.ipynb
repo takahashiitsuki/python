{
 "cells": [
  {
   "cell_type": "code",
   "execution_count": 1,
   "id": "6ff314f9",
   "metadata": {},
   "outputs": [],
   "source": [
    "class Car:\n",
    "    kind = 'car'\n",
    "    def run(self):\n",
    "        print('Car is ruuning.')"
   ]
  },
  {
   "cell_type": "code",
   "execution_count": 2,
   "id": "d95824da",
   "metadata": {},
   "outputs": [
    {
     "data": {
      "text/plain": [
       "'car'"
      ]
     },
     "execution_count": 2,
     "metadata": {},
     "output_type": "execute_result"
    }
   ],
   "source": [
    "Car.kind"
   ]
  },
  {
   "cell_type": "code",
   "execution_count": 3,
   "id": "77b753b8",
   "metadata": {},
   "outputs": [],
   "source": [
    "tesla = Car()"
   ]
  },
  {
   "cell_type": "code",
   "execution_count": 5,
   "id": "3091707f",
   "metadata": {},
   "outputs": [
    {
     "name": "stdout",
     "output_type": "stream",
     "text": [
      "Car is ruuning.\n"
     ]
    }
   ],
   "source": [
    "tesla.run()"
   ]
  },
  {
   "cell_type": "code",
   "execution_count": 6,
   "id": "0dca7203",
   "metadata": {},
   "outputs": [],
   "source": [
    "class Car:\n",
    "    def __init__(self, name):\n",
    "        self.name = name"
   ]
  },
  {
   "cell_type": "code",
   "execution_count": 7,
   "id": "297b511f",
   "metadata": {},
   "outputs": [],
   "source": [
    "tesla = Car('model 3')"
   ]
  },
  {
   "cell_type": "code",
   "execution_count": 8,
   "id": "f1ff2bc6",
   "metadata": {},
   "outputs": [
    {
     "name": "stdout",
     "output_type": "stream",
     "text": [
      "model 3\n"
     ]
    }
   ],
   "source": [
    "print(tesla.name)"
   ]
  },
  {
   "cell_type": "code",
   "execution_count": 9,
   "id": "02990f9a",
   "metadata": {},
   "outputs": [],
   "source": [
    "class Truck(Car):\n",
    "    pass"
   ]
  },
  {
   "cell_type": "code",
   "execution_count": 10,
   "id": "32df527b",
   "metadata": {},
   "outputs": [
    {
     "name": "stdout",
     "output_type": "stream",
     "text": [
      "Cyber Truck\n"
     ]
    }
   ],
   "source": [
    "cybertruck = Truck('Cyber Truck')\n",
    "print(cybertruck.name)"
   ]
  },
  {
   "cell_type": "code",
   "execution_count": 1,
   "id": "770e1eca",
   "metadata": {},
   "outputs": [],
   "source": [
    "class Car: #Carクラスを定義\n",
    "    def exclaim(self): #メソッドexclaim()を定義\n",
    "        print('I am a car.')\n",
    "\n",
    "class Truck(Car): #Carクラスを継承してTruckクラスを定義\n",
    "    def exclaim(self): #メソッドexclaim()をオーバーライド\n",
    "        print('I am a truck.')"
   ]
  },
  {
   "cell_type": "code",
   "execution_count": 3,
   "id": "33288a15",
   "metadata": {},
   "outputs": [
    {
     "name": "stdout",
     "output_type": "stream",
     "text": [
      "I am a car.\n"
     ]
    }
   ],
   "source": [
    "tesla = Car()\n",
    "cybertruck = Truck()\n",
    "tesla.exclaim()"
   ]
  },
  {
   "cell_type": "code",
   "execution_count": 4,
   "id": "41580c65",
   "metadata": {},
   "outputs": [
    {
     "name": "stdout",
     "output_type": "stream",
     "text": [
      "I am a truck.\n"
     ]
    }
   ],
   "source": [
    "cybertruck.exclaim()"
   ]
  },
  {
   "cell_type": "code",
   "execution_count": null,
   "id": "928798da",
   "metadata": {},
   "outputs": [],
   "source": []
  },
  {
   "cell_type": "raw",
   "id": "f583e957",
   "metadata": {},
   "source": []
  }
 ],
 "metadata": {
  "kernelspec": {
   "display_name": "Python 3 (ipykernel)",
   "language": "python",
   "name": "python3"
  },
  "language_info": {
   "codemirror_mode": {
    "name": "ipython",
    "version": 3
   },
   "file_extension": ".py",
   "mimetype": "text/x-python",
   "name": "python",
   "nbconvert_exporter": "python",
   "pygments_lexer": "ipython3",
   "version": "3.9.13"
  }
 },
 "nbformat": 4,
 "nbformat_minor": 5
}
