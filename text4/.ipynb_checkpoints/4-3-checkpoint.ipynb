{
 "cells": [
  {
   "cell_type": "code",
   "execution_count": 10,
   "id": "da9ec892",
   "metadata": {},
   "outputs": [],
   "source": [
    "class Maze():\n",
    "    def __init__(self, mazeData, width):\n",
    "        self.width = mazeData\n",
    "        self.width = init(width)\n",
    "        self.startLocation = self.location0f('S')\n",
    "    \n",
    "    def getStartLocation(self):\n",
    "        return self.startLocation\n",
    "    \n",
    "    def isGoal(self, loc):\n",
    "        return self.mazeData[loc.y * self.width + loc.x] == 'G'\n",
    "    \n",
    "    def isBlank(self, loc):\n",
    "        return self.mazeData[loc.y * self.width + loc.x] != '*'\n",
    "    \n",
    "    def location0f(self, c):\n",
    "        index = self.mazeData.index(c)\n",
    "        return Location(index % self.width, index // self.width)"
   ]
  },
  {
   "cell_type": "code",
   "execution_count": 11,
   "id": "834245de",
   "metadata": {},
   "outputs": [
    {
     "ename": "NameError",
     "evalue": "name 'by' is not defined",
     "output_type": "error",
     "traceback": [
      "\u001b[1;31m---------------------------------------------------------------------------\u001b[0m",
      "\u001b[1;31mNameError\u001b[0m                                 Traceback (most recent call last)",
      "\u001b[1;32m~\\AppData\\Local\\Temp\\ipykernel_13376\\272635653.py\u001b[0m in \u001b[0;36m<module>\u001b[1;34m\u001b[0m\n\u001b[0;32m      1\u001b[0m \u001b[1;32mfrom\u001b[0m \u001b[0menum\u001b[0m \u001b[1;32mimport\u001b[0m \u001b[0mEnum\u001b[0m \u001b[1;31m#標準ライブラリの列挙型Enumを継承\u001b[0m\u001b[1;33m\u001b[0m\u001b[1;33m\u001b[0m\u001b[0m\n\u001b[0;32m      2\u001b[0m \u001b[1;33m\u001b[0m\u001b[0m\n\u001b[1;32m----> 3\u001b[1;33m \u001b[1;32mclass\u001b[0m \u001b[0mDirection\u001b[0m\u001b[1;33m(\u001b[0m\u001b[0mEnum\u001b[0m\u001b[1;33m)\u001b[0m\u001b[1;33m:\u001b[0m\u001b[1;33m\u001b[0m\u001b[1;33m\u001b[0m\u001b[0m\n\u001b[0m\u001b[0;32m      4\u001b[0m     \u001b[0mNORTH\u001b[0m \u001b[1;33m=\u001b[0m \u001b[1;33m(\u001b[0m\u001b[1;36m0\u001b[0m\u001b[1;33m,\u001b[0m \u001b[1;33m-\u001b[0m\u001b[1;36m1\u001b[0m\u001b[1;33m)\u001b[0m\u001b[1;33m\u001b[0m\u001b[1;33m\u001b[0m\u001b[0m\n\u001b[0;32m      5\u001b[0m     \u001b[0mEAST\u001b[0m \u001b[1;33m=\u001b[0m \u001b[1;33m(\u001b[0m\u001b[1;36m1\u001b[0m\u001b[1;33m,\u001b[0m \u001b[1;36m0\u001b[0m\u001b[1;33m)\u001b[0m\u001b[1;33m\u001b[0m\u001b[1;33m\u001b[0m\u001b[0m\n",
      "\u001b[1;32m~\\anaconda3\\lib\\enum.py\u001b[0m in \u001b[0;36m__new__\u001b[1;34m(metacls, cls, bases, classdict, **kwds)\u001b[0m\n\u001b[0;32m    295\u001b[0m             \u001b[0menum_member\u001b[0m\u001b[1;33m.\u001b[0m\u001b[0m_name_\u001b[0m \u001b[1;33m=\u001b[0m \u001b[0mmember_name\u001b[0m\u001b[1;33m\u001b[0m\u001b[1;33m\u001b[0m\u001b[0m\n\u001b[0;32m    296\u001b[0m             \u001b[0menum_member\u001b[0m\u001b[1;33m.\u001b[0m\u001b[0m__objclass__\u001b[0m \u001b[1;33m=\u001b[0m \u001b[0menum_class\u001b[0m\u001b[1;33m\u001b[0m\u001b[1;33m\u001b[0m\u001b[0m\n\u001b[1;32m--> 297\u001b[1;33m             \u001b[0menum_member\u001b[0m\u001b[1;33m.\u001b[0m\u001b[0m__init__\u001b[0m\u001b[1;33m(\u001b[0m\u001b[1;33m*\u001b[0m\u001b[0margs\u001b[0m\u001b[1;33m)\u001b[0m\u001b[1;33m\u001b[0m\u001b[1;33m\u001b[0m\u001b[0m\n\u001b[0m\u001b[0;32m    298\u001b[0m             \u001b[1;31m# If another member with the same value was already defined, the\u001b[0m\u001b[1;33m\u001b[0m\u001b[1;33m\u001b[0m\u001b[0m\n\u001b[0;32m    299\u001b[0m             \u001b[1;31m# new member becomes an alias to the existing one.\u001b[0m\u001b[1;33m\u001b[0m\u001b[1;33m\u001b[0m\u001b[0m\n",
      "\u001b[1;32m~\\AppData\\Local\\Temp\\ipykernel_13376\\272635653.py\u001b[0m in \u001b[0;36m__init__\u001b[1;34m(self, dx, dy)\u001b[0m\n\u001b[0;32m      9\u001b[0m     \u001b[1;32mdef\u001b[0m \u001b[0m__init__\u001b[0m\u001b[1;33m(\u001b[0m\u001b[0mself\u001b[0m\u001b[1;33m,\u001b[0m \u001b[0mdx\u001b[0m\u001b[1;33m,\u001b[0m \u001b[0mdy\u001b[0m\u001b[1;33m)\u001b[0m\u001b[1;33m:\u001b[0m\u001b[1;33m\u001b[0m\u001b[1;33m\u001b[0m\u001b[0m\n\u001b[0;32m     10\u001b[0m         \u001b[0mself\u001b[0m\u001b[1;33m.\u001b[0m\u001b[0mdx\u001b[0m \u001b[1;33m=\u001b[0m \u001b[0mint\u001b[0m\u001b[1;33m(\u001b[0m\u001b[0mdx\u001b[0m\u001b[1;33m)\u001b[0m\u001b[1;33m\u001b[0m\u001b[1;33m\u001b[0m\u001b[0m\n\u001b[1;32m---> 11\u001b[1;33m         \u001b[0mself\u001b[0m\u001b[1;33m.\u001b[0m\u001b[0mby\u001b[0m \u001b[1;33m=\u001b[0m \u001b[0mint\u001b[0m\u001b[1;33m(\u001b[0m\u001b[0mby\u001b[0m\u001b[1;33m)\u001b[0m\u001b[1;33m\u001b[0m\u001b[1;33m\u001b[0m\u001b[0m\n\u001b[0m\u001b[0;32m     12\u001b[0m         \u001b[0mself\u001b[0m\u001b[1;33m.\u001b[0m\u001b[0mvalues\u001b[0m \u001b[1;33m=\u001b[0m \u001b[1;33m[\u001b[0m\u001b[1;34m'NORTH'\u001b[0m\u001b[1;33m,\u001b[0m \u001b[1;34m'EAST'\u001b[0m\u001b[1;33m,\u001b[0m \u001b[1;34m'SOUTH'\u001b[0m\u001b[1;33m,\u001b[0m \u001b[1;34m'WEST'\u001b[0m\u001b[1;33m]\u001b[0m\u001b[1;33m\u001b[0m\u001b[1;33m\u001b[0m\u001b[0m\n\u001b[0;32m     13\u001b[0m \u001b[1;33m\u001b[0m\u001b[0m\n",
      "\u001b[1;31mNameError\u001b[0m: name 'by' is not defined"
     ]
    }
   ],
   "source": [
    "from enum import Enum #標準ライブラリの列挙型Enumを継承\n",
    "\n",
    "class Direction(Enum):\n",
    "    NORTH = (0, -1)\n",
    "    EAST = (1, 0)\n",
    "    SOUTH = (0, 1)\n",
    "    WEST = (-1, 0)\n",
    "    \n",
    "    def __init__(self, dx, dy):\n",
    "        self.dx = int(dx)\n",
    "        self.by = int(by)\n",
    "        self.values = ['NORTH', 'EAST', 'SOUTH', 'WEST']\n",
    "    \n",
    "    def left(self):\n",
    "        order = self.values.index(Direction((self.dx, self.dy)).name) #現在の方向の添字を取得\n",
    "        return(Direction[self.values[(order + 3) % 4]])\n",
    "    \n",
    "    def right(self):\n",
    "        order = self.values.index(Direction((self.dx, self.dy)).name) #現在の方向の添字を取得\n",
    "        return(Direction[self.values[(order + 1) % 4]])\n",
    "    \n",
    "    def __repr__(self): #表示するときは、名前のみ\n",
    "        return Direction((self.dx, self.dy)).name"
   ]
  },
  {
   "cell_type": "code",
   "execution_count": 12,
   "id": "dec8ac07",
   "metadata": {},
   "outputs": [],
   "source": [
    "class Location():\n",
    "    def __init__(self, x, y):\n",
    "        self.x = int(x)\n",
    "        self.y = int(y)"
   ]
  },
  {
   "cell_type": "code",
   "execution_count": 13,
   "id": "01dad0f8",
   "metadata": {},
   "outputs": [],
   "source": [
    "class Piece():\n",
    "    def __init__(self, maze):\n",
    "        self.history = []\n",
    "        self.direction = Direction.NORTH\n",
    "        self.maze = maze\n",
    "        self.location = self.maze.getStartLocation()\n",
    "    \n",
    "    def turnLeft(self):\n",
    "        self.direction = self.direction.left()\n",
    "        \n",
    "    def turnRight(self):\n",
    "        self.direction = self.direction.right()\n",
    "    \n",
    "    def tryStepForward(self):\n",
    "        nextLocation = Location(self.location.x + self.direction.dx, self.location.y + self.direction.dy)\n",
    "        if self.maze.isBlank(nextLocation):\n",
    "            self.location = nextLocation\n",
    "            self.history.append(self.direction)\n",
    "            return True\n",
    "        return False\n",
    "    \n",
    "    def isAtGoal(self):\n",
    "        return self.maze.isGoal(self.location)\n",
    "    \n",
    "    def getHistory(self):\n",
    "        return self.history"
   ]
  },
  {
   "cell_type": "code",
   "execution_count": 7,
   "id": "b882baeb",
   "metadata": {},
   "outputs": [
    {
     "ename": "NameError",
     "evalue": "name 'init' is not defined",
     "output_type": "error",
     "traceback": [
      "\u001b[1;31m---------------------------------------------------------------------------\u001b[0m",
      "\u001b[1;31mNameError\u001b[0m                                 Traceback (most recent call last)",
      "\u001b[1;32m~\\AppData\\Local\\Temp\\ipykernel_13376\\973305104.py\u001b[0m in \u001b[0;36m<module>\u001b[1;34m\u001b[0m\n\u001b[1;32m----> 1\u001b[1;33m maze = Maze(\"*******\" + \n\u001b[0m\u001b[0;32m      2\u001b[0m             \u001b[1;34m\"*..*..*\"\u001b[0m \u001b[1;33m+\u001b[0m\u001b[1;33m\u001b[0m\u001b[1;33m\u001b[0m\u001b[0m\n\u001b[0;32m      3\u001b[0m             \u001b[1;34m\"*S**.**\"\u001b[0m \u001b[1;33m+\u001b[0m\u001b[1;33m\u001b[0m\u001b[1;33m\u001b[0m\u001b[0m\n\u001b[0;32m      4\u001b[0m             \u001b[1;34m\"*.....*\"\u001b[0m \u001b[1;33m+\u001b[0m\u001b[1;33m\u001b[0m\u001b[1;33m\u001b[0m\u001b[0m\n\u001b[0;32m      5\u001b[0m             \u001b[1;34m\"*****.*\"\u001b[0m \u001b[1;33m+\u001b[0m\u001b[1;33m\u001b[0m\u001b[1;33m\u001b[0m\u001b[0m\n",
      "\u001b[1;32m~\\AppData\\Local\\Temp\\ipykernel_13376\\3134468316.py\u001b[0m in \u001b[0;36m__init__\u001b[1;34m(self, mazeData, width)\u001b[0m\n\u001b[0;32m      2\u001b[0m     \u001b[1;32mdef\u001b[0m \u001b[0m__init__\u001b[0m\u001b[1;33m(\u001b[0m\u001b[0mself\u001b[0m\u001b[1;33m,\u001b[0m \u001b[0mmazeData\u001b[0m\u001b[1;33m,\u001b[0m \u001b[0mwidth\u001b[0m\u001b[1;33m)\u001b[0m\u001b[1;33m:\u001b[0m\u001b[1;33m\u001b[0m\u001b[1;33m\u001b[0m\u001b[0m\n\u001b[0;32m      3\u001b[0m         \u001b[0mself\u001b[0m\u001b[1;33m.\u001b[0m\u001b[0mwidth\u001b[0m \u001b[1;33m=\u001b[0m \u001b[0mmazeData\u001b[0m\u001b[1;33m\u001b[0m\u001b[1;33m\u001b[0m\u001b[0m\n\u001b[1;32m----> 4\u001b[1;33m         \u001b[0mself\u001b[0m\u001b[1;33m.\u001b[0m\u001b[0mwidth\u001b[0m \u001b[1;33m=\u001b[0m \u001b[0minit\u001b[0m\u001b[1;33m(\u001b[0m\u001b[0mwidth\u001b[0m\u001b[1;33m)\u001b[0m\u001b[1;33m\u001b[0m\u001b[1;33m\u001b[0m\u001b[0m\n\u001b[0m\u001b[0;32m      5\u001b[0m         \u001b[0mself\u001b[0m\u001b[1;33m.\u001b[0m\u001b[0mstartLocation\u001b[0m \u001b[1;33m=\u001b[0m \u001b[0mself\u001b[0m\u001b[1;33m.\u001b[0m\u001b[0mlocation0f\u001b[0m\u001b[1;33m(\u001b[0m\u001b[1;34m'S'\u001b[0m\u001b[1;33m)\u001b[0m\u001b[1;33m\u001b[0m\u001b[1;33m\u001b[0m\u001b[0m\n\u001b[0;32m      6\u001b[0m \u001b[1;33m\u001b[0m\u001b[0m\n",
      "\u001b[1;31mNameError\u001b[0m: name 'init' is not defined"
     ]
    }
   ],
   "source": [
    "maze = Maze(\"*******\" + \n",
    "            \"*..*..*\" +\n",
    "            \"*S**.**\" +\n",
    "            \"*.....*\" +\n",
    "            \"*****.*\" +\n",
    "            \"*G....*\" +\n",
    "            \"*******\", 7)\n",
    "piece = Piece(maze)\n",
    "while not piece.isAtGoal():\n",
    "    piece.turnLeft()\n",
    "    while not piece.tryStepForward():\n",
    "        piece.turnRight()\n",
    "        \n",
    "history = piece.getHistory()\n",
    "i = 1\n",
    "while i < len(history):\n",
    "    if history[i - 1] == history[i].left().left():\n",
    "        history.pop(1)\n",
    "        history.pop(i - 1)\n",
    "        i = 0 if i < 2 else i - 2\n",
    "    i += 1\n",
    "\n",
    "print(history)"
   ]
  },
  {
   "cell_type": "code",
   "execution_count": null,
   "id": "f7a5b7a3",
   "metadata": {},
   "outputs": [],
   "source": []
  }
 ],
 "metadata": {
  "kernelspec": {
   "display_name": "Python 3 (ipykernel)",
   "language": "python",
   "name": "python3"
  },
  "language_info": {
   "codemirror_mode": {
    "name": "ipython",
    "version": 3
   },
   "file_extension": ".py",
   "mimetype": "text/x-python",
   "name": "python",
   "nbconvert_exporter": "python",
   "pygments_lexer": "ipython3",
   "version": "3.9.13"
  }
 },
 "nbformat": 4,
 "nbformat_minor": 5
}
