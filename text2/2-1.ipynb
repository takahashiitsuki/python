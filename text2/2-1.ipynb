{
 "cells": [
  {
   "cell_type": "code",
   "execution_count": 1,
   "id": "c8f69c62",
   "metadata": {},
   "outputs": [],
   "source": [
    "fp = open('sample.txt', 'wt') #ファイルオブジェクトfpを作成"
   ]
  },
  {
   "cell_type": "code",
   "execution_count": 2,
   "id": "2c9abc86",
   "metadata": {},
   "outputs": [],
   "source": [
    "fp.close()"
   ]
  },
  {
   "cell_type": "code",
   "execution_count": 3,
   "id": "27402061",
   "metadata": {},
   "outputs": [],
   "source": [
    "fp = open('sample.txt', 'wt')\n",
    "fp.write('this is sample.')\n",
    "fp.close()"
   ]
  },
  {
   "cell_type": "code",
   "execution_count": 4,
   "id": "5ca26c86",
   "metadata": {},
   "outputs": [],
   "source": [
    "fp = open('sample.txt', 'wt')\n",
    "fp.write('This is sample1.\\n') #ファイルに1行書き込み\n",
    "fp.write('This is sample2.\\n') #ファイルに1行書き込み\n",
    "fp.close()"
   ]
  },
  {
   "cell_type": "code",
   "execution_count": 5,
   "id": "43bcf5bc",
   "metadata": {},
   "outputs": [
    {
     "data": {
      "text/plain": [
       "'This is sample1.\\nThis is sample2.\\n'"
      ]
     },
     "execution_count": 5,
     "metadata": {},
     "output_type": "execute_result"
    }
   ],
   "source": [
    "fp = open('sample.txt', 'rt') #ファイルを読み込みモードで作成\n",
    "fp.read() #ファイル内容を全部読み込み"
   ]
  },
  {
   "cell_type": "code",
   "execution_count": 6,
   "id": "f8f424e5",
   "metadata": {},
   "outputs": [
    {
     "data": {
      "text/plain": [
       "'This is sample1.\\n'"
      ]
     },
     "execution_count": 6,
     "metadata": {},
     "output_type": "execute_result"
    }
   ],
   "source": [
    "fp = open('sample.txt', 'rt')\n",
    "fp.readline()"
   ]
  },
  {
   "cell_type": "code",
   "execution_count": 7,
   "id": "13ea2933",
   "metadata": {},
   "outputs": [
    {
     "data": {
      "text/plain": [
       "'This is sample2.\\n'"
      ]
     },
     "execution_count": 7,
     "metadata": {},
     "output_type": "execute_result"
    }
   ],
   "source": [
    "fp.readline()"
   ]
  },
  {
   "cell_type": "code",
   "execution_count": 8,
   "id": "3d09e769",
   "metadata": {},
   "outputs": [
    {
     "name": "stdout",
     "output_type": "stream",
     "text": [
      "This is sample1.\n",
      "This is sample2.\n"
     ]
    }
   ],
   "source": [
    "fp = open('sample.txt', 'rt')\n",
    "for line in fp: #ファイルから1行ずつ読み込んでlineに設定\n",
    "    print(line, end='') #ファイル内容を表示"
   ]
  },
  {
   "cell_type": "code",
   "execution_count": 9,
   "id": "33ba47c2",
   "metadata": {},
   "outputs": [
    {
     "name": "stdout",
     "output_type": "stream",
     "text": [
      "This is sample1.\n",
      "This is sample2.\n"
     ]
    }
   ],
   "source": [
    "with open('sample.txt', 'rt') as fp:\n",
    "    data = fp.read()\n",
    "    \n",
    "for line in data:\n",
    "    print(line, end='')"
   ]
  },
  {
   "cell_type": "code",
   "execution_count": 10,
   "id": "77249d96",
   "metadata": {},
   "outputs": [],
   "source": [
    "fp = open('sample.txt', 'wt', encoding='utf-8') #日本語文字コードに対応"
   ]
  },
  {
   "cell_type": "code",
   "execution_count": 11,
   "id": "1e67eb50",
   "metadata": {},
   "outputs": [
    {
     "name": "stdout",
     "output_type": "stream",
     "text": [
      "left|right\n"
     ]
    }
   ],
   "source": [
    "print('left', 'right', sep='|') #|で区切る"
   ]
  },
  {
   "cell_type": "code",
   "execution_count": 12,
   "id": "8763e8e5",
   "metadata": {},
   "outputs": [
    {
     "name": "stdout",
     "output_type": "stream",
     "text": [
      "0 1 2 3 4 "
     ]
    }
   ],
   "source": [
    "for i in range(5):\n",
    "    print(i, end=' ')"
   ]
  },
  {
   "cell_type": "code",
   "execution_count": 13,
   "id": "a84b2d95",
   "metadata": {},
   "outputs": [],
   "source": [
    "with open('sample.txt', 'at') as fp: #ファイルに追記するために安全に開く\n",
    "    print('Hello, World!', file=fp) #ファイルオブジェクトfpに出力"
   ]
  },
  {
   "cell_type": "code",
   "execution_count": 14,
   "id": "cf367a8c",
   "metadata": {},
   "outputs": [
    {
     "data": {
      "text/plain": [
       "'私はマインです。25歳です。'"
      ]
     },
     "execution_count": 14,
     "metadata": {},
     "output_type": "execute_result"
    }
   ],
   "source": [
    "name = 'マイン'\n",
    "age = 25\n",
    "f'私は{name}です。{age}歳です。'"
   ]
  },
  {
   "cell_type": "code",
   "execution_count": 16,
   "id": "00c12676",
   "metadata": {},
   "outputs": [
    {
     "data": {
      "text/plain": [
       "'私はマインです。25歳です。'"
      ]
     },
     "execution_count": 16,
     "metadata": {},
     "output_type": "execute_result"
    }
   ],
   "source": [
    "string = '私は{}です。{}歳です。'\n",
    "string.format(name, age)"
   ]
  },
  {
   "cell_type": "code",
   "execution_count": 17,
   "id": "0213db3b",
   "metadata": {},
   "outputs": [
    {
     "data": {
      "text/plain": [
       "'私はマインです。25歳です。'"
      ]
     },
     "execution_count": 17,
     "metadata": {},
     "output_type": "execute_result"
    }
   ],
   "source": [
    "'私は'+name+'です。'+str(age)+'歳です。'"
   ]
  },
  {
   "cell_type": "code",
   "execution_count": 18,
   "id": "5ced67e8",
   "metadata": {},
   "outputs": [
    {
     "data": {
      "text/plain": [
       "'fish and chips'"
      ]
     },
     "execution_count": 18,
     "metadata": {},
     "output_type": "execute_result"
    }
   ],
   "source": [
    "'{0} and {1}'.format('fish', 'chips')"
   ]
  },
  {
   "cell_type": "code",
   "execution_count": 19,
   "id": "d04514c7",
   "metadata": {},
   "outputs": [
    {
     "data": {
      "text/plain": [
       "'chips and fish'"
      ]
     },
     "execution_count": 19,
     "metadata": {},
     "output_type": "execute_result"
    }
   ],
   "source": [
    "'{1} and {0}'.format('fish', 'chips')"
   ]
  },
  {
   "cell_type": "code",
   "execution_count": 20,
   "id": "1aff8791",
   "metadata": {},
   "outputs": [
    {
     "data": {
      "text/plain": [
       "'私はルッツです。18歳です。'"
      ]
     },
     "execution_count": 20,
     "metadata": {},
     "output_type": "execute_result"
    }
   ],
   "source": [
    "'私は{name}です。{age}歳です。'.format(name='ルッツ', age=18)"
   ]
  },
  {
   "cell_type": "code",
   "execution_count": 21,
   "id": "c2acdf54",
   "metadata": {},
   "outputs": [
    {
     "name": "stdout",
     "output_type": "stream",
     "text": [
      "0 0000\n",
      "1 0001\n",
      "2 0010\n",
      "3 0011\n",
      "4 0100\n"
     ]
    }
   ],
   "source": [
    "for n in range(5):\n",
    "    print('{0:d} {0:04b}'.format(n))"
   ]
  },
  {
   "cell_type": "code",
   "execution_count": 22,
   "id": "91105ba1",
   "metadata": {},
   "outputs": [
    {
     "data": {
      "text/plain": [
       "0.3333333333333333"
      ]
     },
     "execution_count": 22,
     "metadata": {},
     "output_type": "execute_result"
    }
   ],
   "source": [
    "1 / 3"
   ]
  },
  {
   "cell_type": "code",
   "execution_count": 23,
   "id": "6b3cd8cb",
   "metadata": {},
   "outputs": [
    {
     "data": {
      "text/plain": [
       "2.3333333333333335"
      ]
     },
     "execution_count": 23,
     "metadata": {},
     "output_type": "execute_result"
    }
   ],
   "source": [
    "7 / 3"
   ]
  },
  {
   "cell_type": "code",
   "execution_count": null,
   "id": "cb13bd94",
   "metadata": {},
   "outputs": [],
   "source": [
    "fout = open('text.txt', 'wt')\n",
    "fout.write('Hello\\n')"
   ]
  },
  {
   "cell_type": "code",
   "execution_count": 28,
   "id": "90fe55ae",
   "metadata": {},
   "outputs": [],
   "source": [
    "fout = open('text.txt', 'wt')\n",
    "print('Hello', file=fout)"
   ]
  },
  {
   "cell_type": "code",
   "execution_count": null,
   "id": "935d3eaa",
   "metadata": {},
   "outputs": [],
   "source": [
    "print('{0:b} {0:d} {0:x}'.format(123))"
   ]
  }
 ],
 "metadata": {
  "kernelspec": {
   "display_name": "Python 3 (ipykernel)",
   "language": "python",
   "name": "python3"
  },
  "language_info": {
   "codemirror_mode": {
    "name": "ipython",
    "version": 3
   },
   "file_extension": ".py",
   "mimetype": "text/x-python",
   "name": "python",
   "nbconvert_exporter": "python",
   "pygments_lexer": "ipython3",
   "version": "3.9.13"
  }
 },
 "nbformat": 4,
 "nbformat_minor": 5
}
