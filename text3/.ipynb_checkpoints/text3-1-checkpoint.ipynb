{
 "cells": [
  {
   "cell_type": "code",
   "execution_count": 1,
   "id": "f8ac128c",
   "metadata": {},
   "outputs": [],
   "source": [
    "def triangle_area(base, height): #引数として、底辺base、高さheightを入力\n",
    "    area = base * height / 2 #面積areaを計算する処理を実行\n",
    "    return area #面積areaを戻り値として返す"
   ]
  },
  {
   "cell_type": "code",
   "execution_count": 2,
   "id": "f64b450d",
   "metadata": {},
   "outputs": [
    {
     "name": "stdout",
     "output_type": "stream",
     "text": [
      "7.5\n"
     ]
    }
   ],
   "source": [
    "area = triangle_area(5, 3) #関数triangle_area()をbase=5、height=3で実行\n",
    "print(area)"
   ]
  },
  {
   "cell_type": "code",
   "execution_count": 3,
   "id": "53176e92",
   "metadata": {},
   "outputs": [],
   "source": [
    "def sum_list(digitlist): #引数として、数字の文字列リストdigitlistを入力\n",
    "    sum_digit = 0\n",
    "    for digit in digitlist: #引数digitlistから、要素を1つずつdigitに入れて繰り返し\n",
    "        if digit.isdigit(): #文字列digit1が、数値に直せるか判定\n",
    "            sum_digit += int(digit) #digitを数値に変換して、sum_digitに加算\n",
    "    return sum_digit #合計sum_digitを戻り値として返す"
   ]
  },
  {
   "cell_type": "code",
   "execution_count": 4,
   "id": "d451a9df",
   "metadata": {},
   "outputs": [
    {
     "name": "stdout",
     "output_type": "stream",
     "text": [
      "5\n"
     ]
    }
   ],
   "source": [
    "digitlist = ['1', '4', 'abc']\n",
    "sum_digit = sum_list(digitlist) #'1', '4'だけを数値として合計\n",
    "print(sum_digit)"
   ]
  },
  {
   "cell_type": "code",
   "execution_count": 5,
   "id": "3867e67d",
   "metadata": {},
   "outputs": [],
   "source": [
    "def triangle_area(base, height=1): #引数heightにデフォルト値[1]を設定\n",
    "    area = base * height / 2\n",
    "    return area"
   ]
  },
  {
   "cell_type": "code",
   "execution_count": 6,
   "id": "09fc1eb7",
   "metadata": {},
   "outputs": [
    {
     "name": "stdout",
     "output_type": "stream",
     "text": [
      "2.5\n"
     ]
    }
   ],
   "source": [
    "area = triangle_area(5) #引数baseのみ設定、heightはデフォルト値\n",
    "print(area)"
   ]
  },
  {
   "cell_type": "code",
   "execution_count": 8,
   "id": "6a89cdf4",
   "metadata": {},
   "outputs": [
    {
     "name": "stdout",
     "output_type": "stream",
     "text": [
      "7.5\n"
     ]
    }
   ],
   "source": [
    "area = triangle_area(5, 3) #引数base, heightを設定、デフォルト値より優先される\n",
    "print(area)"
   ]
  },
  {
   "cell_type": "code",
   "execution_count": null,
   "id": "b86270f2",
   "metadata": {},
   "outputs": [],
   "source": []
  }
 ],
 "metadata": {
  "kernelspec": {
   "display_name": "Python 3 (ipykernel)",
   "language": "python",
   "name": "python3"
  },
  "language_info": {
   "codemirror_mode": {
    "name": "ipython",
    "version": 3
   },
   "file_extension": ".py",
   "mimetype": "text/x-python",
   "name": "python",
   "nbconvert_exporter": "python",
   "pygments_lexer": "ipython3",
   "version": "3.9.13"
  }
 },
 "nbformat": 4,
 "nbformat_minor": 5
}
