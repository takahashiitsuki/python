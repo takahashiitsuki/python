{
 "cells": [
  {
   "cell_type": "code",
   "execution_count": 4,
   "id": "e8798b48",
   "metadata": {},
   "outputs": [],
   "source": [
    "def search(data, target):\n",
    "    for i in range(len(data)): #先頭から順番に探索\n",
    "        if data[i] == target: #見つかった時にはその位置iを返す\n",
    "            return i\n",
    "        return -1 #見つからなかったときは-1を返す"
   ]
  },
  {
   "cell_type": "code",
   "execution_count": 5,
   "id": "a4943a7e",
   "metadata": {},
   "outputs": [
    {
     "name": "stdout",
     "output_type": "stream",
     "text": [
      "要素番号-1にデータ7を見つけました。\n"
     ]
    }
   ],
   "source": [
    "data = [1, 2, 3, 4, 5, 6, 7, 8, 9]\n",
    "target = 7\n",
    "print(\"要素番号{}にデータ{}を見つけました。\".format(search(data, target), target))"
   ]
  },
  {
   "cell_type": "code",
   "execution_count": 6,
   "id": "ca060f55",
   "metadata": {},
   "outputs": [],
   "source": [
    "def search(data, target):\n",
    "    start, end = 0, len(data) #探索するデータの始点startと終点endを設定\n",
    "    while start <= end: #探索するデータがある間は繰り返す\n",
    "        i = (start + end) // 2 #真ん中のデータをiとする\n",
    "        if data[i] == target: #見つかった時にはその位置iを返す\n",
    "            return i\n",
    "        elif data[i] < target: #targetの値の方が大きい場合は後のグループを探索\n",
    "            start = i + 1\n",
    "        else:\n",
    "            end = i - 1\n",
    "        return -1 #見つからない時は-1を返す"
   ]
  },
  {
   "cell_type": "code",
   "execution_count": 7,
   "id": "2c935f80",
   "metadata": {},
   "outputs": [],
   "source": [
    "def sort(data):\n",
    "    for i in range(len(data)-1, 0, -1): #後ろから順に比較していく\n",
    "        for j in range(i): #未整列の部分を比較\n",
    "            if data[j] > data[j+1]: #隣り合う要素で後の方が大きい場合\n",
    "                data[j], data[j+1] = data[j+1], data[j] #要素を入れ替える"
   ]
  },
  {
   "cell_type": "code",
   "execution_count": 8,
   "id": "05d76638",
   "metadata": {},
   "outputs": [
    {
     "name": "stdout",
     "output_type": "stream",
     "text": [
      "[1, 1, 2, 2, 3, 4, 5]\n"
     ]
    }
   ],
   "source": [
    "data = [1, 3, 2, 5, 4, 2, 1]\n",
    "sort(data)\n",
    "print(data)"
   ]
  },
  {
   "cell_type": "code",
   "execution_count": 9,
   "id": "986467a8",
   "metadata": {},
   "outputs": [],
   "source": [
    "def sort(data):\n",
    "    for i in range(0, len(data)): #最初から順に整列させていく\n",
    "        for j in range(i-1, -1, -1): #一番後ろの要素を挿入する場所を探す\n",
    "            if data[j] > data[j+1]: #隣り合う要素で後の方が大きい場合\n",
    "                data[j], data[j+1] = data[j+1], data[j] #要素を入れ替える\n",
    "            else:\n",
    "                break #挿入する部分が見つかれば終わり"
   ]
  },
  {
   "cell_type": "code",
   "execution_count": 10,
   "id": "6bf2726f",
   "metadata": {},
   "outputs": [],
   "source": [
    "def sort(data):\n",
    "    for i in range(0, len(data)-1): #最初から順に選択していく\n",
    "        min_i = i #最小値の位置をmin_iに求める\n",
    "        for j in range(i+1, len(data)): #最小値を探すループ\n",
    "            if data[min_i] > data[j]: #より小さい値があれば、最小値を置き換える\n",
    "                min_i = j\n",
    "        data[min_i], data[i] = data[i], data[min_i] #最小値の場所と要素を入れ替える"
   ]
  },
  {
   "cell_type": "code",
   "execution_count": 11,
   "id": "4f06f6f5",
   "metadata": {},
   "outputs": [],
   "source": [
    "def sort(data):\n",
    "    gaps = [7, 3, 1] #ギャップの値を設定\n",
    "    for gap in gaps: #gapを段々狭めて繰り返す\n",
    "        for i in range(0, len(data), gap): #gapの幅は慣れたデータを挿入ソート\n",
    "            for j in range(i-gap, 0, -gap): #一番後ろの要素を挿入する場所を探す\n",
    "                if data[j] > data[j+gap]: #gap分は慣れた要素で後の方が大きい場合\n",
    "                    data[j], data[j+gap] = data[j+gap], data[j] #要素を入れ替える\n",
    "                else:\n",
    "                    break #挿入する部分が見つかれば終わり\n",
    "            "
   ]
  },
  {
   "cell_type": "code",
   "execution_count": 12,
   "id": "b09b2df1",
   "metadata": {},
   "outputs": [],
   "source": [
    "from heapq import heappush, heappop #ヒープを扱う標準ライブラリheapqを利用\n",
    "\n",
    "def sort(data):\n",
    "    heap = [] #空のヒープ（リスト)を作成\n",
    "    while data: #dataから要素を取り出して、ヒープに入れる\n",
    "        heappush(heap, data.pop()) #dataの最後の要素を取り出して、heappushでheapに入れる\n",
    "    while heap: #heapから順に要素を取り出し、dataに戻す\n",
    "        data.append(heappop(heap)) #heapから最小値を取り出して、dataの最後に追加する"
   ]
  },
  {
   "cell_type": "code",
   "execution_count": 13,
   "id": "1d60d148",
   "metadata": {},
   "outputs": [],
   "source": [
    "def f(n):\n",
    "    if n <= 1:\n",
    "        return 1\n",
    "    else:\n",
    "        return n + f(n-1)"
   ]
  },
  {
   "cell_type": "code",
   "execution_count": 14,
   "id": "6dfb4c73",
   "metadata": {},
   "outputs": [
    {
     "name": "stdout",
     "output_type": "stream",
     "text": [
      "15\n"
     ]
    }
   ],
   "source": [
    "print(f(5))"
   ]
  },
  {
   "cell_type": "code",
   "execution_count": 18,
   "id": "7d827665",
   "metadata": {},
   "outputs": [],
   "source": [
    "def sort(data):\n",
    "    n = len(data)\n",
    "    pivot = data[n//2] #今回の基準地には、真ん中の値を利用\n",
    "    left, right, middle = [], [], []\n",
    "    for i in range(n):\n",
    "        if data[i] < pivot: #基準値より小さい場合は、左部分列leftに追加\n",
    "            left.append(data[i])\n",
    "        elif data[i] > pivot: #基準値より大きい場合は、右部分列rightに追加\n",
    "            right.append(data[i])\n",
    "        else:\n",
    "            middle.append(data[i]) #基準値と同じ場合には、部分列middleに追加\n",
    "    if left:\n",
    "        left = sort(left) #再帰でleftを分割\n",
    "    if right:\n",
    "        left = sort(right) #再帰でrightを分割\n",
    "    return left + middle + right #順番に部分列を結合させて、戻り値にする"
   ]
  },
  {
   "cell_type": "code",
   "execution_count": 19,
   "id": "85acd877",
   "metadata": {},
   "outputs": [
    {
     "name": "stdout",
     "output_type": "stream",
     "text": [
      "[3, 2, 2, 3, 4, 5]\n"
     ]
    }
   ],
   "source": [
    "data = [1, 3, 2, 5, 4, 2, 1]\n",
    "data = sort(data)\n",
    "print(data)"
   ]
  },
  {
   "cell_type": "code",
   "execution_count": 20,
   "id": "31c6fe0c",
   "metadata": {},
   "outputs": [],
   "source": [
    "def sort(data):\n",
    "    if len(data) <= 1: #長さが1以下の場合は分割できないので終了\n",
    "        return data\n",
    "    \n",
    "    #分割操作\n",
    "    mid = len(data) // 2 #真ん中を計算\n",
    "    left = sort(data[:mid]) #再帰で前半を分割してleftに\n",
    "    right = sort(data[mid:]) #再帰で後半を分割してrightに\n",
    "    \n",
    "    #結合操作\n",
    "    merge, l, r = [], 0, 0 #margeに統合\n",
    "    while l < len(left) and r < len(right): #leftとrightの両方に要素がある場合\n",
    "        if left[l] <= right[r]: #左側≦右側の場合\n",
    "            merge.append(left[l]) #左側をmergeに加える\n",
    "            l += 1 #左側をmergeに加える\n",
    "        else: #左側>右側の場合\n",
    "            merge.append(left[l]) #左側をmergeに加える\n",
    "            l += 1\n",
    "    if l < len(left): #左側が余った場合に残りを追加\n",
    "        merge.extend(left[l:])\n",
    "    elif r < len(right): #右側が余った場合に残りを追加\n",
    "        merge.extend(right[r:])\n",
    "    return merge"
   ]
  },
  {
   "cell_type": "code",
   "execution_count": 21,
   "id": "1df75b6b",
   "metadata": {},
   "outputs": [],
   "source": [
    "def f():\n",
    "    if not A:\n",
    "        pass\n",
    "    else:\n",
    "        C.append(A.pop())\n",
    "        f()\n",
    "        B.append(C.pop())"
   ]
  },
  {
   "cell_type": "code",
   "execution_count": null,
   "id": "849dc440",
   "metadata": {},
   "outputs": [],
   "source": []
  }
 ],
 "metadata": {
  "kernelspec": {
   "display_name": "Python 3 (ipykernel)",
   "language": "python",
   "name": "python3"
  },
  "language_info": {
   "codemirror_mode": {
    "name": "ipython",
    "version": 3
   },
   "file_extension": ".py",
   "mimetype": "text/x-python",
   "name": "python",
   "nbconvert_exporter": "python",
   "pygments_lexer": "ipython3",
   "version": "3.9.13"
  }
 },
 "nbformat": 4,
 "nbformat_minor": 5
}
