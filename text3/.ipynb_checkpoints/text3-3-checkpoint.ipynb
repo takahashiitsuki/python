{
 "cells": [
  {
   "cell_type": "code",
   "execution_count": null,
   "id": "fa305970",
   "metadata": {},
   "outputs": [],
   "source": [
    "def Huffman(size, parent, left, right, freq):\n",
    "    node = [-1] * max_size\n",
    "    nsize = SortNode(size, parent, fleq, node)\n",
    "    while nsize >= 2:\n",
    "        i = node[0] #最も小さい値を持つ要素組の要素番号\n",
    "        j = node[1] #2番目に小さい値を持つ要素組の要素番号\n",
    "        left[size] = i\n",
    "        right[size] = j\n",
    "        freq[size] = freq[i] + freq[j]\n",
    "        parent[i] = size #子に親の節の要素番号を格納\n",
    "        parent[j] = size #子に親の節の要素番号を格納\n",
    "        size = size + 1\n",
    "        nsize = SortNode(size, parent, freq, node)\n",
    "    return size\n",
    "\n",
    "def SortNode(size, parent, freq, node):\n",
    "    nsize = 0\n",
    "    for i in range(size):\n",
    "        if parent[i] < 0:\n",
    "            node[nsize] = i\n",
    "            nsize = nsize + 1\n",
    "            Sort(freq, nsize, node)\n",
    "            return nsize"
   ]
  },
  {
   "cell_type": "code",
   "execution_count": null,
   "id": "faf50a51",
   "metadata": {},
   "outputs": [],
   "source": [
    "def Encode(k, parent, left):\n",
    "    if parent[k] >= 0:\n",
    "        Encode()"
   ]
  }
 ],
 "metadata": {
  "kernelspec": {
   "display_name": "Python 3 (ipykernel)",
   "language": "python",
   "name": "python3"
  },
  "language_info": {
   "codemirror_mode": {
    "name": "ipython",
    "version": 3
   },
   "file_extension": ".py",
   "mimetype": "text/x-python",
   "name": "python",
   "nbconvert_exporter": "python",
   "pygments_lexer": "ipython3",
   "version": "3.9.13"
  }
 },
 "nbformat": 4,
 "nbformat_minor": 5
}
