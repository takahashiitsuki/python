{
 "cells": [
  {
   "cell_type": "code",
   "execution_count": 1,
   "id": "cb5fef2b",
   "metadata": {},
   "outputs": [],
   "source": [
    "def triangle_area(base, height): #引数として、底辺base、高さheightを入力\n",
    "    area = base * height / 2 #面積areaを計算する処理を実行\n",
    "    return area #面積areaを戻り値として返す"
   ]
  },
  {
   "cell_type": "code",
   "execution_count": 2,
   "id": "1114a724",
   "metadata": {},
   "outputs": [
    {
     "name": "stdout",
     "output_type": "stream",
     "text": [
      "7.5\n"
     ]
    }
   ],
   "source": [
    "area = triangle_area(5, 3) #関数triangle_area()をbase=5、height=3で実行\n",
    "print(area)"
   ]
  },
  {
   "cell_type": "code",
   "execution_count": 3,
   "id": "7faa629b",
   "metadata": {},
   "outputs": [],
   "source": [
    "def sum_list(digitlist): #引数として、数字の文字列リストdigitlistを入力\n",
    "    sum_digit = 0\n",
    "    for digit in digitlist: #引数digitlistから、要素を1つずつdigitに入れて繰り返し\n",
    "        if digit.isdigit(): #文字列digit1が、数値に直せるか判定\n",
    "            sum_digit += int(digit) #digitを数値に変換して、sum_digitに加算\n",
    "    return sum_digit #合計sum_digitを戻り値として返す"
   ]
  },
  {
   "cell_type": "code",
   "execution_count": 4,
   "id": "87925dd0",
   "metadata": {},
   "outputs": [
    {
     "name": "stdout",
     "output_type": "stream",
     "text": [
      "5\n"
     ]
    }
   ],
   "source": [
    "digitlist = ['1', '4', 'abc']\n",
    "sum_digit = sum_list(digitlist) #'1', '4'だけを数値として合計\n",
    "print(sum_digit)"
   ]
  },
  {
   "cell_type": "code",
   "execution_count": 5,
   "id": "3e2ee74f",
   "metadata": {},
   "outputs": [],
   "source": [
    "def triangle_area(base, height=1): #引数heightにデフォルト値[1]を設定\n",
    "    area = base * height / 2\n",
    "    return area"
   ]
  },
  {
   "cell_type": "code",
   "execution_count": 6,
   "id": "3e705fcc",
   "metadata": {},
   "outputs": [
    {
     "name": "stdout",
     "output_type": "stream",
     "text": [
      "2.5\n"
     ]
    }
   ],
   "source": [
    "area = triangle_area(5) #引数baseのみ設定、heightはデフォルト値\n",
    "print(area)"
   ]
  },
  {
   "cell_type": "code",
   "execution_count": 8,
   "id": "7a6d7163",
   "metadata": {},
   "outputs": [
    {
     "name": "stdout",
     "output_type": "stream",
     "text": [
      "7.5\n"
     ]
    }
   ],
   "source": [
    "area = triangle_area(5, 3) #引数base, heightを設定、デフォルト値より優先される\n",
    "print(area)"
   ]
  },
  {
   "cell_type": "code",
   "execution_count": 14,
   "id": "603b8f5c",
   "metadata": {},
   "outputs": [
    {
     "name": "stdout",
     "output_type": "stream",
     "text": [
      "7.5\n"
     ]
    }
   ],
   "source": [
    "area = triangle_area(base=5, height=3) #キーワード引数で、引数base,heightを設定\n",
    "print(area)"
   ]
  },
  {
   "cell_type": "code",
   "execution_count": 15,
   "id": "c7510c9e",
   "metadata": {},
   "outputs": [
    {
     "ename": "SyntaxError",
     "evalue": "positional argument follows keyword argument (617481592.py, line 1)",
     "output_type": "error",
     "traceback": [
      "\u001b[1;36m  File \u001b[1;32m\"C:\\Users\\sd03v\\AppData\\Local\\Temp\\ipykernel_6436\\617481592.py\"\u001b[1;36m, line \u001b[1;32m1\u001b[0m\n\u001b[1;33m    area = triangle_area(base=5, 3) #キーワード引数の後の位置引数\u001b[0m\n\u001b[1;37m                                  ^\u001b[0m\n\u001b[1;31mSyntaxError\u001b[0m\u001b[1;31m:\u001b[0m positional argument follows keyword argument\n"
     ]
    }
   ],
   "source": [
    "area = triangle_area(base=5, 3) #キーワード引数の後の位置引数\n",
    "print(area)\n",
    "\n",
    "area = triangle_area(height=3) #必須引数baseがない\n",
    "print(area)\n",
    "\n",
    "area = triangle_area(5, base=3) #引数baseを2回使用\n",
    "print(area)\n",
    "\n",
    "area = triangle_area(base=5, angle=60) #定義していない引数を使用\n",
    "print(area)"
   ]
  },
  {
   "cell_type": "code",
   "execution_count": 16,
   "id": "f2cf00a3",
   "metadata": {},
   "outputs": [
    {
     "name": "stdout",
     "output_type": "stream",
     "text": [
      "2.5\n",
      "7.5\n",
      "7.5\n"
     ]
    }
   ],
   "source": [
    "area = triangle_area(base=5) #必須引数baseのみ設定\n",
    "print(area)\n",
    "\n",
    "area = triangle_area(5, height=3) #heightのみキーワード引数\n",
    "print(area)\n",
    "\n",
    "area = triangle_area(height=3, base=5) #キーワード引数の順番変更\n",
    "print(area)"
   ]
  },
  {
   "cell_type": "code",
   "execution_count": null,
   "id": "b7064ad2",
   "metadata": {},
   "outputs": [],
   "source": []
  }
 ],
 "metadata": {
  "kernelspec": {
   "display_name": "Python 3 (ipykernel)",
   "language": "python",
   "name": "python3"
  },
  "language_info": {
   "codemirror_mode": {
    "name": "ipython",
    "version": 3
   },
   "file_extension": ".py",
   "mimetype": "text/x-python",
   "name": "python",
   "nbconvert_exporter": "python",
   "pygments_lexer": "ipython3",
   "version": "3.9.13"
  }
 },
 "nbformat": 4,
 "nbformat_minor": 5
}
