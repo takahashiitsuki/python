{
 "cells": [
  {
   "cell_type": "code",
   "execution_count": 1,
   "id": "25700acc",
   "metadata": {},
   "outputs": [],
   "source": [
    "def triangle_area(base, height): #引数として、底辺base、高さheightを入力\n",
    "    area = base * height / 2 #面積areaを計算する処理を実行\n",
    "    return area #面積areaを戻り値として返す"
   ]
  },
  {
   "cell_type": "code",
   "execution_count": 2,
   "id": "8e9be720",
   "metadata": {},
   "outputs": [
    {
     "name": "stdout",
     "output_type": "stream",
     "text": [
      "7.5\n"
     ]
    }
   ],
   "source": [
    "area = triangle_area(5, 3) #関数triangle_area()をbase=5、height=3で実行\n",
    "print(area)"
   ]
  },
  {
   "cell_type": "code",
   "execution_count": 3,
   "id": "62c38b17",
   "metadata": {},
   "outputs": [],
   "source": [
    "def sum_list(digitlist): #引数として、数字の文字列リストdigitlistを入力\n",
    "    sum_digit = 0\n",
    "    for digit in digitlist: #引数digitlistから、要素を1つずつdigitに入れて繰り返し\n",
    "        if digit.isdigit(): #文字列digit1が、数値に直せるか判定\n",
    "            sum_digit += int(digit) #digitを数値に変換して、sum_digitに加算\n",
    "    return sum_digit #合計sum_digitを戻り値として返す"
   ]
  },
  {
   "cell_type": "code",
   "execution_count": 4,
   "id": "3c70e5ec",
   "metadata": {},
   "outputs": [
    {
     "name": "stdout",
     "output_type": "stream",
     "text": [
      "5\n"
     ]
    }
   ],
   "source": [
    "digitlist = ['1', '4', 'abc']\n",
    "sum_digit = sum_list(digitlist) #'1', '4'だけを数値として合計\n",
    "print(sum_digit)"
   ]
  },
  {
   "cell_type": "code",
   "execution_count": 5,
   "id": "5a0e6e3e",
   "metadata": {},
   "outputs": [],
   "source": [
    "def triangle_area(base, height=1): #引数heightにデフォルト値[1]を設定\n",
    "    area = base * height / 2\n",
    "    return area"
   ]
  },
  {
   "cell_type": "code",
   "execution_count": 6,
   "id": "8ae05d70",
   "metadata": {},
   "outputs": [
    {
     "name": "stdout",
     "output_type": "stream",
     "text": [
      "2.5\n"
     ]
    }
   ],
   "source": [
    "area = triangle_area(5) #引数baseのみ設定、heightはデフォルト値\n",
    "print(area)"
   ]
  },
  {
   "cell_type": "code",
   "execution_count": 8,
   "id": "8d4982be",
   "metadata": {},
   "outputs": [
    {
     "name": "stdout",
     "output_type": "stream",
     "text": [
      "7.5\n"
     ]
    }
   ],
   "source": [
    "area = triangle_area(5, 3) #引数base, heightを設定、デフォルト値より優先される\n",
    "print(area)"
   ]
  },
  {
   "cell_type": "code",
   "execution_count": 14,
   "id": "d4b2970c",
   "metadata": {},
   "outputs": [
    {
     "name": "stdout",
     "output_type": "stream",
     "text": [
      "7.5\n"
     ]
    }
   ],
   "source": [
    "area = triangle_area(base=5, height=3) #キーワード引数で、引数base,heightを設定\n",
    "print(area)"
   ]
  },
  {
   "cell_type": "code",
   "execution_count": 15,
   "id": "ed3122ba",
   "metadata": {},
   "outputs": [
    {
     "ename": "SyntaxError",
     "evalue": "positional argument follows keyword argument (617481592.py, line 1)",
     "output_type": "error",
     "traceback": [
      "\u001b[1;36m  File \u001b[1;32m\"C:\\Users\\sd03v\\AppData\\Local\\Temp\\ipykernel_6436\\617481592.py\"\u001b[1;36m, line \u001b[1;32m1\u001b[0m\n\u001b[1;33m    area = triangle_area(base=5, 3) #キーワード引数の後の位置引数\u001b[0m\n\u001b[1;37m                                  ^\u001b[0m\n\u001b[1;31mSyntaxError\u001b[0m\u001b[1;31m:\u001b[0m positional argument follows keyword argument\n"
     ]
    }
   ],
   "source": [
    "area = triangle_area(base=5, 3) #キーワード引数の後の位置引数\n",
    "print(area)\n",
    "\n",
    "area = triangle_area(height=3) #必須引数baseがない\n",
    "print(area)\n",
    "\n",
    "area = triangle_area(5, base=3) #引数baseを2回使用\n",
    "print(area)\n",
    "\n",
    "area = triangle_area(base=5, angle=60) #定義していない引数を使用\n",
    "print(area)"
   ]
  },
  {
   "cell_type": "code",
   "execution_count": 16,
   "id": "735a4f2b",
   "metadata": {},
   "outputs": [
    {
     "name": "stdout",
     "output_type": "stream",
     "text": [
      "2.5\n",
      "7.5\n",
      "7.5\n"
     ]
    }
   ],
   "source": [
    "area = triangle_area(base=5) #必須引数baseのみ設定\n",
    "print(area)\n",
    "\n",
    "area = triangle_area(5, height=3) #heightのみキーワード引数\n",
    "print(area)\n",
    "\n",
    "area = triangle_area(height=3, base=5) #キーワード引数の順番変更\n",
    "print(area)"
   ]
  },
  {
   "cell_type": "code",
   "execution_count": 17,
   "id": "2f6be554",
   "metadata": {},
   "outputs": [
    {
     "name": "stdout",
     "output_type": "stream",
     "text": [
      "何か数値を入力してください5\n"
     ]
    },
    {
     "data": {
      "text/plain": [
       "'5'"
      ]
     },
     "execution_count": 17,
     "metadata": {},
     "output_type": "execute_result"
    }
   ],
   "source": [
    "num_str = input('何か数値を入力してください')\n",
    "num_str"
   ]
  },
  {
   "cell_type": "code",
   "execution_count": 18,
   "id": "ce9ccb3f",
   "metadata": {},
   "outputs": [
    {
     "data": {
      "text/plain": [
       "0.01"
      ]
     },
     "execution_count": 18,
     "metadata": {},
     "output_type": "execute_result"
    }
   ],
   "source": [
    "pow(10, -2)"
   ]
  },
  {
   "cell_type": "code",
   "execution_count": 19,
   "id": "aa4bff56",
   "metadata": {},
   "outputs": [
    {
     "data": {
      "text/plain": [
       "5"
      ]
     },
     "execution_count": 19,
     "metadata": {},
     "output_type": "execute_result"
    }
   ],
   "source": [
    "int('5') #文字列の5を整数型の5に変換"
   ]
  },
  {
   "cell_type": "code",
   "execution_count": 20,
   "id": "743b6acc",
   "metadata": {},
   "outputs": [
    {
     "data": {
      "text/plain": [
       "5.2"
      ]
     },
     "execution_count": 20,
     "metadata": {},
     "output_type": "execute_result"
    }
   ],
   "source": [
    "float('5.2') #文字列型の5.2を浮動小数点型の5.2に変換"
   ]
  },
  {
   "cell_type": "code",
   "execution_count": 21,
   "id": "4846ff0a",
   "metadata": {},
   "outputs": [
    {
     "data": {
      "text/plain": [
       "'5'"
      ]
     },
     "execution_count": 21,
     "metadata": {},
     "output_type": "execute_result"
    }
   ],
   "source": [
    "str(5) #数値の5を文字列型の5に変換"
   ]
  },
  {
   "cell_type": "code",
   "execution_count": 24,
   "id": "f7c0691e",
   "metadata": {},
   "outputs": [
    {
     "data": {
      "text/plain": [
       "[0, 1, 2, 1, 2]"
      ]
     },
     "execution_count": 24,
     "metadata": {},
     "output_type": "execute_result"
    }
   ],
   "source": [
    "tuple_sample = (0, 1, 2, 1, 2) #タプルの例\n",
    "list(tuple_sample) #タプルtuple_sampleをリストに変換"
   ]
  },
  {
   "cell_type": "code",
   "execution_count": 25,
   "id": "91adc6bc",
   "metadata": {},
   "outputs": [
    {
     "data": {
      "text/plain": [
       "(0, 1, 2, 1, 2)"
      ]
     },
     "execution_count": 25,
     "metadata": {},
     "output_type": "execute_result"
    }
   ],
   "source": [
    "list_sample = [0, 1, 2, 1, 2] #リストの例\n",
    "tuple(list_sample) #リストlist_sampleをタプルに変換"
   ]
  },
  {
   "cell_type": "code",
   "execution_count": 26,
   "id": "73f55f9b",
   "metadata": {},
   "outputs": [
    {
     "data": {
      "text/plain": [
       "{0, 1, 2}"
      ]
     },
     "execution_count": 26,
     "metadata": {},
     "output_type": "execute_result"
    }
   ],
   "source": [
    "set(list_sample) #リストlist_sampleを集合に変換"
   ]
  },
  {
   "cell_type": "code",
   "execution_count": 27,
   "id": "4c7e1886",
   "metadata": {},
   "outputs": [
    {
     "name": "stdout",
     "output_type": "stream",
     "text": [
      "[(0, 'coffee'), (1, 'tea'), (2, 'water')]\n"
     ]
    }
   ],
   "source": [
    "drinklist = ['coffee', 'tea', 'water']\n",
    "print(list(enumerate(drinklist)))"
   ]
  },
  {
   "cell_type": "code",
   "execution_count": 28,
   "id": "fe092ffa",
   "metadata": {},
   "outputs": [
    {
     "name": "stdout",
     "output_type": "stream",
     "text": [
      "0 coffee\n",
      "1 tea\n",
      "2 water\n"
     ]
    }
   ],
   "source": [
    "for i, drink in enumerate(drinklist): #要素番号をi、リストの内容をdrinkに代入\n",
    "    print(i, drink)"
   ]
  },
  {
   "cell_type": "code",
   "execution_count": 29,
   "id": "afd091be",
   "metadata": {},
   "outputs": [
    {
     "data": {
      "text/plain": [
       "[2, 4, 8]"
      ]
     },
     "execution_count": 29,
     "metadata": {},
     "output_type": "execute_result"
    }
   ],
   "source": [
    "numlist = [1, 2, 4]\n",
    "def double(x):\n",
    "    return x * 2\n",
    "list(map(double, numlist))"
   ]
  },
  {
   "cell_type": "code",
   "execution_count": 30,
   "id": "7500b41a",
   "metadata": {},
   "outputs": [
    {
     "data": {
      "text/plain": [
       "[3, 6]"
      ]
     },
     "execution_count": 30,
     "metadata": {},
     "output_type": "execute_result"
    }
   ],
   "source": [
    "numlist = [1, 3, 6, 8]\n",
    "def even_three_div(x):\n",
    "    return x % 3 == 0\n",
    "list(filter(even_three_div, numlist))"
   ]
  },
  {
   "cell_type": "code",
   "execution_count": 1,
   "id": "39dfee63",
   "metadata": {},
   "outputs": [
    {
     "data": {
      "text/plain": [
       "[3, 6]"
      ]
     },
     "execution_count": 1,
     "metadata": {},
     "output_type": "execute_result"
    }
   ],
   "source": [
    "numlist = [1, 3, 6, 8]\n",
    "def even_three_div(x):\n",
    "    return x % 3 == 0\n",
    "list(filter(even_three_div, numlist))"
   ]
  },
  {
   "cell_type": "code",
   "execution_count": 2,
   "id": "27c026de",
   "metadata": {},
   "outputs": [
    {
     "data": {
      "text/plain": [
       "[('steak', 'coffee'), ('salad', 'tea'), ('dessert', 'water')]"
      ]
     },
     "execution_count": 2,
     "metadata": {},
     "output_type": "execute_result"
    }
   ],
   "source": [
    "meallist = ['steak', 'salad', 'dessert']\n",
    "drinklist = ['coffee', 'tea', 'water']\n",
    "list(zip(meallist, drinklist))"
   ]
  },
  {
   "cell_type": "code",
   "execution_count": 3,
   "id": "54899518",
   "metadata": {},
   "outputs": [
    {
     "data": {
      "text/plain": [
       "{'steak': 1, 'salad': 2, 'dessert': 3}"
      ]
     },
     "execution_count": 3,
     "metadata": {},
     "output_type": "execute_result"
    }
   ],
   "source": [
    "dict_a = dict(steak=1, salad=2, dessert=3)\n",
    "dict_a"
   ]
  },
  {
   "cell_type": "code",
   "execution_count": 5,
   "id": "6f6fca58",
   "metadata": {},
   "outputs": [
    {
     "data": {
      "text/plain": [
       "{'steak': 1, 'salad': 2, 'dessert': 3}"
      ]
     },
     "execution_count": 5,
     "metadata": {},
     "output_type": "execute_result"
    }
   ],
   "source": [
    "meallist = ['steak', 'salad', 'dessert']\n",
    "numlist = [1, 2, 3]\n",
    "dict_b = dict(zip(meallist, numlist))\n",
    "dict_b"
   ]
  },
  {
   "cell_type": "code",
   "execution_count": 6,
   "id": "4c95f7cb",
   "metadata": {},
   "outputs": [
    {
     "data": {
      "text/plain": [
       "4"
      ]
     },
     "execution_count": 6,
     "metadata": {},
     "output_type": "execute_result"
    }
   ],
   "source": [
    "double = lambda x : x * 2\n",
    "double(2)"
   ]
  },
  {
   "cell_type": "code",
   "execution_count": 7,
   "id": "3ac79022",
   "metadata": {},
   "outputs": [
    {
     "data": {
      "text/plain": [
       "[(2, 'February'), (1, 'January'), (3, 'March')]"
      ]
     },
     "execution_count": 7,
     "metadata": {},
     "output_type": "execute_result"
    }
   ],
   "source": [
    "month_name = [(1, 'January'), (2, 'February'), (3, 'March')]\n",
    "month_name.sort(key = lambda x : x[1]) #sortのkeyに２番目の値を使用\n",
    "month_name"
   ]
  },
  {
   "cell_type": "code",
   "execution_count": 8,
   "id": "1645f0de",
   "metadata": {},
   "outputs": [
    {
     "name": "stdout",
     "output_type": "stream",
     "text": [
      "(2, 3)\n"
     ]
    }
   ],
   "source": [
    "def variable_args(first, *args):\n",
    "    print(args)\n",
    "    \n",
    "variable_args(1, 2, 3)"
   ]
  },
  {
   "cell_type": "code",
   "execution_count": 9,
   "id": "856f2011",
   "metadata": {},
   "outputs": [
    {
     "ename": "NameError",
     "evalue": "name 'pow_value' is not defined",
     "output_type": "error",
     "traceback": [
      "\u001b[1;31m---------------------------------------------------------------------------\u001b[0m",
      "\u001b[1;31mNameError\u001b[0m                                 Traceback (most recent call last)",
      "\u001b[1;32m~\\AppData\\Local\\Temp\\ipykernel_15812\\1928908739.py\u001b[0m in \u001b[0;36m<module>\u001b[1;34m\u001b[0m\n\u001b[0;32m      2\u001b[0m     \u001b[0mpow_value\u001b[0m \u001b[1;33m=\u001b[0m \u001b[0mx\u001b[0m \u001b[1;33m**\u001b[0m \u001b[1;36m2\u001b[0m\u001b[1;33m\u001b[0m\u001b[1;33m\u001b[0m\u001b[0m\n\u001b[0;32m      3\u001b[0m \u001b[1;33m\u001b[0m\u001b[0m\n\u001b[1;32m----> 4\u001b[1;33m \u001b[0mprint\u001b[0m\u001b[1;33m(\u001b[0m\u001b[0mpow_value\u001b[0m\u001b[1;33m)\u001b[0m \u001b[1;31m#関数の外でローカル変数を使用\u001b[0m\u001b[1;33m\u001b[0m\u001b[1;33m\u001b[0m\u001b[0m\n\u001b[0m",
      "\u001b[1;31mNameError\u001b[0m: name 'pow_value' is not defined"
     ]
    }
   ],
   "source": [
    "def compute_pow(x):\n",
    "    pow_value = x ** 2\n",
    "    \n",
    "print(pow_value) #関数の外でローカル変数を使用"
   ]
  },
  {
   "cell_type": "code",
   "execution_count": 10,
   "id": "2c31b1bf",
   "metadata": {},
   "outputs": [
    {
     "name": "stdout",
     "output_type": "stream",
     "text": [
      "Hello\n",
      "Good Morning \n"
     ]
    }
   ],
   "source": [
    "greeting = 'Good Morning '\n",
    "def afternoon():\n",
    "    greeting = 'Hello'\n",
    "    print(greeting)\n",
    "afternoon()\n",
    "print(greeting)"
   ]
  },
  {
   "cell_type": "code",
   "execution_count": 11,
   "id": "71cc0e2b",
   "metadata": {},
   "outputs": [
    {
     "name": "stdout",
     "output_type": "stream",
     "text": [
      "1 2\n"
     ]
    }
   ],
   "source": [
    "def double(x):\n",
    "    x = x * 2\n",
    "    return x\n",
    "\n",
    "x = 1\n",
    "y = double(x)\n",
    "print(x, y)"
   ]
  },
  {
   "cell_type": "code",
   "execution_count": 12,
   "id": "f1706f27",
   "metadata": {},
   "outputs": [
    {
     "data": {
      "text/plain": [
       "['Carrot', 'Apple', 'Pampkin']"
      ]
     },
     "execution_count": 12,
     "metadata": {},
     "output_type": "execute_result"
    }
   ],
   "source": [
    "def list_mod(original):\n",
    "    original[1] = 'Apple'\n",
    "    \n",
    "vegetables = ['Carrot', 'Potato', 'Pampkin']\n",
    "list_mod(vegetables)\n",
    "vegetables"
   ]
  },
  {
   "cell_type": "code",
   "execution_count": 13,
   "id": "513f3967",
   "metadata": {},
   "outputs": [
    {
     "name": "stdout",
     "output_type": "stream",
     "text": [
      "[1, 4, 3] [1, 4, 3]\n"
     ]
    }
   ],
   "source": [
    "lista = [1, 2, 3]\n",
    "listb = lista\n",
    "listb[1] = 4\n",
    "print(lista, listb)"
   ]
  },
  {
   "cell_type": "code",
   "execution_count": 14,
   "id": "d7042a4b",
   "metadata": {},
   "outputs": [
    {
     "name": "stdout",
     "output_type": "stream",
     "text": [
      "[1, 2, 3] [1, 4, 3]\n"
     ]
    }
   ],
   "source": [
    "import copy\n",
    "\n",
    "lista = [1, 2, 3]\n",
    "listb = copy.copy(lista)\n",
    "listb[1] = 4\n",
    "print(lista, listb)"
   ]
  },
  {
   "cell_type": "code",
   "execution_count": 15,
   "id": "08a5ed1f",
   "metadata": {},
   "outputs": [
    {
     "name": "stdout",
     "output_type": "stream",
     "text": [
      "[[1, 2, 3], [4, 7, 6]] [[1, 2, 3], [4, 7, 6]]\n"
     ]
    }
   ],
   "source": [
    "lista = [[1, 2, 3], [4, 5, 6]]\n",
    "listb = copy.copy(lista)\n",
    "listb[1][1] = 7\n",
    "print(lista, listb)"
   ]
  },
  {
   "cell_type": "code",
   "execution_count": 16,
   "id": "9592e1d2",
   "metadata": {},
   "outputs": [],
   "source": [
    "def count_up():\n",
    "    n = 1 #nの初期値は1\n",
    "    while True:\n",
    "        yield n #nの値を返す\n",
    "        n += 1 #nの値を1増やしておく"
   ]
  },
  {
   "cell_type": "code",
   "execution_count": 18,
   "id": "c234abc4",
   "metadata": {},
   "outputs": [
    {
     "name": "stdout",
     "output_type": "stream",
     "text": [
      "1 2 3 4 5 6 7 "
     ]
    }
   ],
   "source": [
    "generator = count_up() #ジェネレータ関数を実行してジェネレータを作成\n",
    "for num in generator: #ジェネレータを実行して出力をnumに代入\n",
    "    print(num, end=' ') #numを出力\n",
    "    if num == 7:\n",
    "        break #numが7になったらbreak文で終了"
   ]
  },
  {
   "cell_type": "code",
   "execution_count": 19,
   "id": "581ba982",
   "metadata": {},
   "outputs": [
    {
     "name": "stdout",
     "output_type": "stream",
     "text": [
      "8 9 10 11 12 13 14 15 "
     ]
    }
   ],
   "source": [
    "for num in generator: #ジェネレータを実行して出力をnumに代入\n",
    "    print(num, end=' ') #numを出力\n",
    "    if num == 15:\n",
    "        break #numが15になったらbreak文で終了"
   ]
  },
  {
   "cell_type": "code",
   "execution_count": 1,
   "id": "cd67a588",
   "metadata": {},
   "outputs": [],
   "source": [
    "def wrapping(contents):\n",
    "    print('---- start ----') #文章の前に表示\n",
    "    contents() #contents()の内容を実行\n",
    "    print('---- end ----') #文章の後を表示"
   ]
  },
  {
   "cell_type": "code",
   "execution_count": 2,
   "id": "5517568b",
   "metadata": {},
   "outputs": [
    {
     "name": "stdout",
     "output_type": "stream",
     "text": [
      "---- start ----\n",
      "これが内容です。\n",
      "---- end ----\n"
     ]
    }
   ],
   "source": [
    "@wrapping #デコレータ\n",
    "def contents(): #contents()の内容を定義\n",
    "    print('これが内容です。')"
   ]
  },
  {
   "cell_type": "code",
   "execution_count": null,
   "id": "0bba151a",
   "metadata": {},
   "outputs": [],
   "source": []
  }
 ],
 "metadata": {
  "kernelspec": {
   "display_name": "Python 3 (ipykernel)",
   "language": "python",
   "name": "python3"
  },
  "language_info": {
   "codemirror_mode": {
    "name": "ipython",
    "version": 3
   },
   "file_extension": ".py",
   "mimetype": "text/x-python",
   "name": "python",
   "nbconvert_exporter": "python",
   "pygments_lexer": "ipython3",
   "version": "3.9.13"
  }
 },
 "nbformat": 4,
 "nbformat_minor": 5
}
