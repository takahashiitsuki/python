{
 "cells": [
  {
   "cell_type": "code",
   "execution_count": 4,
   "id": "e8798b48",
   "metadata": {},
   "outputs": [],
   "source": [
    "def search(data, target):\n",
    "    for i in range(len(data)): #先頭から順番に探索\n",
    "        if data[i] == target: #見つかった時にはその位置iを返す\n",
    "            return i\n",
    "        return -1 #見つからなかったときは-1を返す"
   ]
  },
  {
   "cell_type": "code",
   "execution_count": 5,
   "id": "a4943a7e",
   "metadata": {},
   "outputs": [
    {
     "name": "stdout",
     "output_type": "stream",
     "text": [
      "要素番号-1にデータ7を見つけました。\n"
     ]
    }
   ],
   "source": [
    "data = [1, 2, 3, 4, 5, 6, 7, 8, 9]\n",
    "target = 7\n",
    "print(\"要素番号{}にデータ{}を見つけました。\".format(search(data, target), target))"
   ]
  },
  {
   "cell_type": "code",
   "execution_count": 6,
   "id": "ca060f55",
   "metadata": {},
   "outputs": [],
   "source": [
    "def search(data, target):\n",
    "    start, end = 0, len(data) #探索するデータの始点startと終点endを設定\n",
    "    while start <= end: #探索するデータがある間は繰り返す\n",
    "        i = (start + end) // 2 #真ん中のデータをiとする\n",
    "        if data[i] == target: #見つかった時にはその位置iを返す\n",
    "            return i\n",
    "        elif data[i] < target: #targetの値の方が大きい場合は後のグループを探索\n",
    "            start = i + 1\n",
    "        else:\n",
    "            end = i - 1\n",
    "        return -1 #見つからない時は-1を返す"
   ]
  },
  {
   "cell_type": "code",
   "execution_count": 7,
   "id": "2c935f80",
   "metadata": {},
   "outputs": [],
   "source": [
    "def sort(data):\n",
    "    for i in range(len(data)-1, 0, -1): #後ろから順に比較していく\n",
    "        for j in range(i): #未整列の部分を比較\n",
    "            if data[j] > data[j+1]: #隣り合う要素で後の方が大きい場合\n",
    "                data[j], data[j+1] = data[j+1], data[j] #要素を入れ替える"
   ]
  },
  {
   "cell_type": "code",
   "execution_count": 8,
   "id": "05d76638",
   "metadata": {},
   "outputs": [
    {
     "name": "stdout",
     "output_type": "stream",
     "text": [
      "[1, 1, 2, 2, 3, 4, 5]\n"
     ]
    }
   ],
   "source": [
    "data = [1, 3, 2, 5, 4, 2, 1]\n",
    "sort(data)\n",
    "print(data)"
   ]
  },
  {
   "cell_type": "code",
   "execution_count": 9,
   "id": "986467a8",
   "metadata": {},
   "outputs": [],
   "source": [
    "def sort(data):\n",
    "    for i in range(0, len(data)): #最初から順に整列させていく\n",
    "        for j in range(i-1, -1, -1): #一番後ろの要素を挿入する場所を探す\n",
    "            if data[j] > data[j+1]: #隣り合う要素で後の方が大きい場合\n",
    "                data[j], data[j+1] = data[j+1], data[j] #要素を入れ替える\n",
    "            else:\n",
    "                break #挿入する部分が見つかれば終わり"
   ]
  },
  {
   "cell_type": "code",
   "execution_count": 10,
   "id": "663a5774",
   "metadata": {},
   "outputs": [],
   "source": [
    "def sort(data):\n",
    "    for i in range(0, len(data)-1): #最初から順に選択していく\n",
    "        min_i = i #最小値の位置をmin_iに求める\n",
    "        for j in range(i+1, len(data)): #最小値を探すループ\n",
    "            if data[min_i] > data[j]: #より小さい値があれば、最小値を置き換える\n",
    "                min_i = j\n",
    "        data[min_i], data[i] = data[i], data[min_i] #最小値の場所と要素を入れ替える"
   ]
  },
  {
   "cell_type": "code",
   "execution_count": 11,
   "id": "8443d2dd",
   "metadata": {},
   "outputs": [],
   "source": [
    "def sort(data):\n",
    "    gaps = [7, 3, 1] #ギャップの値を設定\n",
    "    for gap in gaps: #gapを段々狭めて繰り返す\n",
    "        for i in range(0, len(data), gap): #gapの幅は慣れたデータを挿入ソート\n",
    "            for j in range(i-gap, 0, -gap): #一番後ろの要素を挿入する場所を探す\n",
    "                if data[j] > data[j+gap]: #gap分は慣れた要素で後の方が大きい場合\n",
    "                    data[j], data[j+gap] = data[j+gap], data[j] #要素を入れ替える\n",
    "                else:\n",
    "                    break #挿入する部分が見つかれば終わり\n",
    "            "
   ]
  },
  {
   "cell_type": "code",
   "execution_count": 12,
   "id": "f991ad33",
   "metadata": {},
   "outputs": [],
   "source": [
    "from heapq import heappush, heappop #ヒープを扱う標準ライブラリheapqを利用\n",
    "\n",
    "def sort(data):\n",
    "    heap = [] #空のヒープ（リスト)を作成\n",
    "    while data: #dataから要素を取り出して、ヒープに入れる\n",
    "        heappush(heap, data.pop()) #dataの最後の要素を取り出して、heappushでheapに入れる\n",
    "    while heap: #heapから順に要素を取り出し、dataに戻す\n",
    "        data.append(heappop(heap)) #heapから最小値を取り出して、dataの最後に追加する"
   ]
  },
  {
   "cell_type": "code",
   "execution_count": null,
   "id": "5b2e12de",
   "metadata": {},
   "outputs": [],
   "source": []
  }
 ],
 "metadata": {
  "kernelspec": {
   "display_name": "Python 3 (ipykernel)",
   "language": "python",
   "name": "python3"
  },
  "language_info": {
   "codemirror_mode": {
    "name": "ipython",
    "version": 3
   },
   "file_extension": ".py",
   "mimetype": "text/x-python",
   "name": "python",
   "nbconvert_exporter": "python",
   "pygments_lexer": "ipython3",
   "version": "3.9.13"
  }
 },
 "nbformat": 4,
 "nbformat_minor": 5
}
